{
 "cells": [
  {
   "attachments": {
    "ibm-cloud.png": {
     "image/png": "[encoded data removed]"
    }
   },
   "cell_type": "markdown",
   "metadata": {},
   "source": [
    "![ibm-cloud.png](attachment:ibm-cloud.png)\n",
    "\n",
    "# CASE STUDY - topic modeling and feature engineering\n",
    "\n",
    "\n",
    "[Feature engineering](https://en.wikipedia.org/wiki/Feature_engineering) is the process of using domain knowledge of your data to create features that can be leveraged by machine learning.  That is not a hard definition, because sometimes it is used in a context where features are transformed for machine learning, but the inclusion of domain knowledge is not implied.  \n",
    "\n",
    "It is unfortunately common that for large datasets engineered features are not easy to create.  When there are many features generally only a small number play an important roll when it comes to prediction.  Furthermore,  domain insight is even more difficult to fold into the model when there are hundreds or thousands of features to keep in mind.  However, there is a middle ground---much of the worlds knowledge is locked up in language.  In this case study we will use topic modeling to gather insight from text.  Ideally, the result of these types of experiments would be shared with domain experts to further engineer features that are relevant when it comes to your business opportunity."
   ]
  },
  {
   "cell_type": "code",
   "execution_count": null,
   "metadata": {},
   "outputs": [],
   "source": [
    "%%capture\n",
    "pip install pyLDAvis"
   ]
  },
  {
   "cell_type": "code",
   "execution_count": 2,
   "metadata": {},
   "outputs": [],
   "source": [
    "import os\n",
    "import re\n",
    "import sys\n",
    "import numpy as np\n",
    "import pandas as pd\n",
    "import matplotlib.pyplot as plt\n",
    "from sklearn.utils import shuffle\n",
    "from sklearn.datasets import load_files\n",
    "from sklearn.feature_extraction.text import CountVectorizer\n",
    "from sklearn.feature_extraction.text import TfidfVectorizer\n",
    "from sklearn.decomposition import LatentDirichletAllocation\n",
    "from sklearn.pipeline import Pipeline\n",
    "from sklearn.decomposition import PCA\n",
    "from sklearn.manifold import TSNE\n",
    "from string import punctuation, printable\n",
    "from sklearn.feature_extraction.text import ENGLISH_STOP_WORDS\n",
    "\n",
    "try:\n",
    "    import pyLDAvis\n",
    "    import pyLDAvis.sklearn\n",
    "except:\n",
    "    raise Exception(\"'pip install pyldavis' before running this notebook\")\n",
    "\n",
    "pyLDAvis.enable_notebook()    \n",
    "plt.style.use('seaborn')\n",
    "%matplotlib inline\n",
    "\n",
    "DATA_DIR = os.path.join(\"..\",\"data\")"
   ]
  },
  {
   "cell_type": "markdown",
   "metadata": {},
   "source": [
    "## Synopsis\n",
    "\n",
    "   >Goal:  AAVAIL has recently enabled comments on the core streaming service.  The data science team knows that   this will be an incredibly important source of data going forward.  It will be used inform customer retention, product quality, product market fit and more.  Comments are going live next week and being the diligent data scientist that you are your plan is to build a topic modeling pipeline that will consume the comments and create visualizations that can be used to communicate with domain experts.\n",
    "  \n",
    "## Outline\n",
    "\n",
    "1. EDA - summary tables, use tSNE to visualize the data\n",
    "2. Create a transfomation pipelines for NMF and LDA\n",
    "3. Use ldaviz and wordclouds to get insight into the clusters\n",
    "\n",
    "## Data\n",
    "\n",
    "Even before receiving the first comment, we want to start building our Pipeline using a proxy dataset. In this study Case we will work with a dataset publicly available dataset of movie reviews.\n",
    "\n",
    "* [Here](http://www.nltk.org/nltk_data) is the web page that references all the public dataset that NLTK provide. In this Study Case we will work with the 'Sentiment Polarity Dataset Version 2.0' dataset. (The dataset has already been downloaded and is in the data folder of the working directory)\n",
    "* For more examples of applications with these data see [NLTK's book chapter that uses these data](https://www.nltk.org/book/ch06.html)"
   ]
  },
  {
   "cell_type": "code",
   "execution_count": null,
   "metadata": {},
   "outputs": [],
   "source": [
    "movie_reviews = load_files(os.path.join(DATA_DIR, \"movie_reviews\"), shuffle=True)\n",
    "X = movie_reviews.data\n",
    "y = movie_reviews.target\n",
    "target_names = movie_reviews.target_names\n",
    "print(X[4])\n",
    "print(\"\\n\")\n",
    "print(\"target names {0}\".format(target_names))"
   ]
  },
  {
   "cell_type": "markdown",
   "metadata": {},
   "source": [
    "### QUESTION 1\n",
    "\n",
    "The main focus of this exercise is to enable visualization of topics, but these topics can be used as additional \n",
    "features for prediction tasks.  The goal of this case study is to ensure that you are comfortable with natural language processing pipelines and topic modeling tools. \n",
    "\n",
    "There are many ways to process tokens (words, dates, emojis etc).  NLTK is often used to pre-process text data before the tokens are vectorized.  Generally, the tokens are modified via [stemming or lemmatization](https://nlp.stanford.edu/IR-book/html/htmledition/stemming-and-lemmatization-1.html).  The next code block provides a lemmatization function that makes use of the library [spacy](https://spacy.io/).  You will need to install it and download the English language reference material as follows.  Stopwords are words that are very common or otherwise irrelevant we use a default list here, but it is an important part of NLP pipelines that needs to be customized for the subject area. Use the following function to process the corpus (this can take a few minutes)\n",
    "\n",
    "```bash\n",
    "~$ pip install spacy\n",
    "~$ python -m spacy download en\n",
    "```\n",
    "\n",
    "If you prefer to use NLTK then you could use a simple lemmatizer like the WordLemmatizer."
   ]
  },
  {
   "cell_type": "code",
   "execution_count": null,
   "metadata": {},
   "outputs": [],
   "source": [
    "!spacy download en"
   ]
  },
  {
   "cell_type": "code",
   "execution_count": null,
   "metadata": {},
   "outputs": [],
   "source": [
    "## Arreglar problema con modulo en que no carga en el jupyter env\n",
    "import spacy\n",
    "STOPLIST = ENGLISH_STOP_WORDS\n",
    "STOPLIST = set(list(STOPLIST) + [\"foo\", \"film\", \"movie\", \"make\"])\n",
    "\n",
    "if not 'nlp' in locals():\n",
    "    print(\"Loading English Module...\")\n",
    "    nlp = spacy.load('en')\n",
    "\n",
    "def lemmatize_document(doc, stop_words=None):\n",
    "    \"\"\"\n",
    "    takes a list of strings where each string is a document\n",
    "    returns a processed list of strings\n",
    "    \"\"\"\n",
    "    \n",
    "    if not stop_words:\n",
    "        stop_words = set([])\n",
    "  \n",
    "    ## ensure working with string\n",
    "    doc = str(doc)\n",
    "    doc = doc.replace('\\\\n','')\n",
    "    doc = doc.replace('\\\\t','')\n",
    "\n",
    "    # First remove punctuation form string\n",
    "    if sys.version_info.major == 3:\n",
    "        PUNCT_DICT = {ord(punc): None for punc in punctuation}\n",
    "        doc = doc.translate(PUNCT_DICT)\n",
    "\n",
    "    # remove unicode\n",
    "    clean_doc = \"\".join([char for char in doc if char in printable])\n",
    "            \n",
    "    # Run the doc through spaCy\n",
    "    doc = nlp(clean_doc)\n",
    "\n",
    "    # Lemmatize and lower text\n",
    "    tokens = [re.sub(r\"\\W+\",\"\",token.lemma_.lower()) for token in doc ]\n",
    "    tokens = [t for t in tokens if len(t) > 1]\n",
    "    \n",
    "    return ' '.join(w for w in tokens if w not in stop_words)    \n",
    "\n",
    "## example usage\n",
    "corpus = ['\"You can fool some of the people all of the time, and all of the people some of the time, but you can not fool all of the people all of the time\". -- Abraham Lincoln']\n",
    "processed = [lemmatize_document(doc, STOPLIST) for doc in corpus]\n",
    "print(processed[0])\n",
    "processed = [lemmatize_document(doc, None) for doc in corpus]\n",
    "print(\"\\n\"+processed[0])"
   ]
  },
  {
   "cell_type": "code",
   "execution_count": 5,
   "metadata": {},
   "outputs": [
    {
     "name": "stderr",
     "output_type": "stream",
     "text": [
      "/usr/local/lib/python3.8/site-packages/ipykernel/ipkernel.py:287: DeprecationWarning: `should_run_async` will not call `transform_cell` automatically in the future. Please pass the result to `transformed_cell` argument and any exception that happen during thetransform in `preprocessing_exc_tuple` in IPython 7.17 and above.\n",
      "  and should_run_async(code)\n"
     ]
    }
   ],
   "source": [
    "## YOUR CODE HERE\n",
    "\n",
    "## Preprocess all the reviews of the corpus with the lemmatize_document() \n",
    "## function to create a list of cleaned reviews.\n",
    "\n",
    "# from tqdm import tqdm\n",
    "# tqdm.pandas()\n",
    "# processed = df.progress_apply(lambda x : lemmatize_document(x['review'], STOPLIST), axis=1).tolist()\n",
    "\n",
    "processed = ['barnold schwarzenegger icon action enthusiast late 80 lately pron sloppy oneliner bad pron hard seeing arnold mr freeze batman robin especially pron say ton ice joke hey pron 15 million pron matter pron arnold sign expensive blockbuster compare like terminator series true lie eraser dark thriller devil gabriel byrne come earth impregnate woman robin tunney happen 1000 year basically destroy world apparently god choose man man jericho cane arnold pron help trusty sidekick kevin pollack pron stop let devil world actually absurd pron fit right dogma yes weak pron blockbuster right sleepy hollow pron world look like star definitely like arnold pron just type pron pron sure pron pron chuckle pron known oneliner pron confused pron character pron understandable especially ending change accord source aside form pron walk pron like pron past pron sorry say arnold maybe end pron action day speaking action pron hardly explosion fight devil place explode arnold kick devil butt ending change pron spiritual undoubtedly ruin hope cool ending occur let know long cost really super affect unless pron consider invisible devil pron minute worth overpriced budget budget script audience somewhat entertain instead face boredom pron pitiful script like buy pron read thing anymore pron sure like pron thankfully gabriel performance light poor pron walk street search robin tunney pron help feel pron look like devil guy creepy look pron pron just glad pron end bother pron expect solid action flick pron solid pron action pron just pron suckere strategic marketing campaign save pron money world entertaining experience\\n',\n",
    " '\\n',\n",
    " '\\n',\n",
    " '\\n',\n",
    " 'bgood hard day great rare proof life russell crowes onetwo punch deft kidnap rescue thriller rare gem taut drama lace strong subtle acting intelligent script masterful directing pron deliver virtually unheard industry day genuine motivation story ring true consider strange coincidence russell crowes character proof life distraught wife play meg ryans character real russell crowe hitch married woman meg ryan outside world chemistry actor mcqueen mcgraw team peckinpahs masterpiece getaway gossip let review revolve kidnapping peter bowman david morse american engineer work south america kidnap mass ambush civilian antigovernment soldier discover pron identity rebel soldier decide ransom pron million problem company peter bowman work auction step forward money choice available pron bowman wife alice ryan hire terry thorne crowe highly skilled negotiator rescue operative arrange return pron husband thing wrong pron situation terry pron team include surprising casting choice year david caruso matter pron hand notable pron simple story line create complex intelligent characterdriven vehicle wellwritten dialogue shade motivation convincing acting actor script base book long march freedom magazine article pertain kidnapransom situation story sharply piece tony gilroy screenwriter devil advocate dolore claiborne big surprise pron chemistry crowe ryan crowe david caruso dig bmovie hell caruso pull gutsy performance crowes right hand gun provide humor ryan lot smoke cigarette david morse end guerilla camp hate pron crowe provide memorable acting turn stoic gunslinger character terry thorne memorable piece lie pron action scene bulk scene bookend work extremely establishment closure device storys character scene skillfully craft execute amazing accuracy poise director taylor hackford mix pron oldschool style filmmake dizziness lars von tri proof life think mans action pron choice man woman face love war sacrifice choice sacrifice help pron sleep night\\n',\n",
    " '\\n',\n",
    " '\\n',\n",
    " '\\n',\n",
    " 'bquaid star man proffesion dragonslayer pron feel pron betray dragon early pron run dragon existence genuinely amusing battle result standoff quaid dragon mouth pron sword point dragon brain eventually pron decide truce pron work deal pron dragon pron pretend die quaid able pay pron pron scam work pron come town money instead town sacrifice girl dragon course draco nice droagon pron eat pron amusing scene draco hit young girl course pron probably tell plot silly pron know pron seriously right times unlike eddie time pron probably medieval comedy laugh eddie spy hard combine dennis quaid fine hero pete posthlewaite provide ghreat comedy monk journey pron dina meyer appealing sacrifice girl let face pron really dragon amazing creation pron connerys voice ilm team provide pron truly magnificent dragon pron strong hard core medieval epic pron wrong pron dragon pron dissapointe pron provide plenty laugh smooth boring script\\n',\n",
    " '\\n',\n",
    " '\\n',\n",
    " '\\n',\n",
    " 'bwe paraphrase michelle pfieffers character dangerous mind say rangoon start fair like school child benefit doubt chance succeed pron like think right combination talent effort wonder mountain good yeah right child fail director john boormans late success rangoon hinge believability patricia arquette ed wood true romance busty westernerinperil wander 1988 burma passport pron stomach mild plot contrivance pron pron tough task overlook actress pron lightweight scene narration demonstrate pron nearly range emotion pron charactera mother flee memory murder husband sonis suppose pron strong performance say keanu reeve walk cloud rangoon physically appealing thank practice craftsmanship john boorman deliverance excalibur hope glory pron narrative matter muddy storyor heroineget pron choose arquette remain mystery maybe pron think dramatic weight story overcome cast deficiencie hour halfstate political statement murky mass killing pron know happen country feel distressed character pron situation exoticism technical credit rangoon curious mix combine lush jungle photography bad bluescreen work odd obvious dubbing foreign character sound foreign pron pron mistake extra reappear different soldier doo doo doo doo twilight zone theme opinion pron judge\\n',\n",
    " '\\n',\n",
    " '\\n',\n",
    " '\\n',\n",
    " 'bkolya rich pron time zdenek sverak play confirm old bachelor likely remain pron life czech cellist increasingly impact fiveyear old boy pron care pron end abruptly pron whine cause want spend time character act writing production value high high comparable american drama fatherandson delight sverak write script pron son jan direct win golden globe good foreign language couple day pron walk away oscar czech russian english subtitle\\n',\n",
    " '\\n',\n",
    " '\\n',\n",
    " '\\n',\n",
    " 'bi know people idea cross pron mind pron life ongoing television watch world people pron use wonder young decide think pron watch lot tv pron brother hit pron head baseball bat pron pretty sure andrew niccol screenwriter truman curious thought truman man jim carrey entire life engineer corporation market public birth pron live fictional island town seahaven fla actually exist giant dome set just hollywood sign people truman burbank life actor anonymous townfolk pay extras people watch truman life 24 hour day live commercial interruption revenue come instead product placement staple contemporary hollywood truman friend relative pron consumer item cheerful optimistic tone sun rise set cue like pron truman pron probably learn crucial commercial trailer promotion blitz pron write far surprise pron pity pron pron primary source pron entertainment news way pron probably know premise truman pron pron probably think pron suck pron begin jim carrey look mirror recite crucial eat pron scene alive wish pron neighbor good day afternoon evening live domestic bliss pron wife laura linney weird thing start happen stage light come fall sky truman hear people track pron movement radio pron swear pron pron dead father pron learn flashback pron father drown truman child sailing rainstorm death stage director christof ed harris want fear water truman pron leave island similar cruel manipulation pron stumble truth pron truman good friend marlon noah emmerich assure pron pron conspiracy thing pron hurt pron truman trust eye tear christof fade emotional synthesizer music worldwide audience people apparently watch daily behindthescene update harry shearer capture highlight truman existence key like right balance humor drama premise like pron obvious implication direction pron hinge carrey balance comic naivet real sense longing drive hell pron come long way talk butt cheek ace ventura fundamentally pron just plain interesting follow director peter weir pron just pron capture person life person realize pron pron coordinate extra hide camera feed automatic line actor interesting thing truman pron probably imagine ambitious director pitch like sure interesting tv genre 90s reality programming jerry springer popularity roof people deserve humiliate turn pron intimate airwave news use hide camera pron great good entertainment merge pron truman right pron implausible mean fcc let pron say sword air pron think pron let pron broadcast mans life entire world pron consent day pron happen pron mean end privacy people eat pron pron know pron\\n',\n",
    " '\\n',\n",
    " '\\n',\n",
    " '\\n',\n",
    " 'bcapsule trippy hyperspeed action machine hong kong accomplish tsui hark van damme rodman nice chemistry stunt eyepoppe stuff blow real good pron want admit set loathe double team pron reek cheapjack timingoriente market stick dennis rodman quick pron hot jeanclaude van damme flag career pron surprise double team transcend pron dumb root turn mess fun bring friend pretzel blast van damme jack quinn exagent bring mission pron think spy worth pron shoe phone run like hell pron hear word van dammes character pregnant wife sculptor unpleasant pressure use pron come mission pron assign old enemy terrorist stavros mickey rourke look oddly subdue pron old trick showdown quinn stavro wear pron ambition proudly pron sleeve nonstop action amusement park hospital private retire spy retreat rome various house plane car mode transport coliseum arena bonerattling shootout punchout pron reason jawdropping scene van damme man use switchblade pron foot van damme good dextrous athlete fighter pron upstaged nice touch stavro quinn want thing retire peace pron family ambition tie pron various way humanize pron bit thing hk action form human element carry pron weight scene forgettable good dennis rodman play weapon dealer yaz character stick like fistful broken finger funny just stand rodman natural screen pron fun watch especially sling bad guy like basketball deserve pron base lightweight fastmove entertainment showcase pron piece excellently\\n',\n",
    " '\\n',\n",
    " '\\n',\n",
    " '\\n',\n",
    " 'bgothic murdermystery yarn new conceit fact pron book year proper handling pron come oldfashioned bland outdate gift direct sam raimi triedandtrue effort surprise little include wide array suspect red herring mansion deep south moss tree eventual discovery waterlogged corpse nearby pond pron fairly obvious killer fact predict pron begin correct pron preliminary suspicion ultimately work pron thank sparkling cast character memorable nuance fun simply watch people interact annie wilson cate blanchett recently widow mother son pron live psychic reading resident pron backwater southern hometown pron mainstay client include valerie barksdale hilary swank severely abuse pron husband donnie keanu reeves buddy cole giovanni ribisi unstable mechanic confuse nightmare pron mysterious blue diamond link pron father annie pron reading merely money use pron way seek solace good future pron late grandmother rosemary harris tell pron child pron gift pron pron remember annie eld son involve fight school pron meet niceguy school principal wayne collins greg kinnear pron pron attract wayne engage wealthy jessica king katie holmes annie immediately negative vibe party pron good friend linda kim dicken annie stumble jessica compromising position lawyer david duncan gary cole soon jessica disappear leave frenzy possibly happen pron annie start nightmare apparition link jessica vicious redneck donnie barksdale pond pron home gift cliche sheer storytelling level performance tight direction raimi redeem pron pron embarrassing 1999s love game lift picture notch slowly envelop viewer intriguing character pron individual plight disappearance jessica 30minute mark divulge true intention transform proceeding taut time frightening horrormystery center exceptional cate blanchett 1999s talented mr ripley turn annie wilson little runofthemill protagonist exact downtoearth realistic person valid trouble care attitude pron blanchett unextraordinary material run pron entire truly classy aura pron pron follow pron turn pron mesmerize character actress blanchett bright performer pron ably support good cast year pron role follow pron oscar win 1999s boy hilary swank excellent confused valerie seek guidance annie scared pron big advice leave grossly abusive donnie donnie keanu reeves 2000s watcher utterly convincing backwood meanie pron difficult believe pron actor oftencriticized reeve act ability good big compliment pron possibly pron performance pron giovanni ribisi 2000s boiler room heartbreake mentally slow young man annie pron friend want pron help pron understand pron plague bad dream pron dad small pivotal role sleazy jessica king katie holmes 2000s wonder boy turn stunning support turn pron promiscuous role jessica pron play pron radiant pron scene finally kim dickens 2000 hollow man pron usual strong impression annie spicy good friend linda notable aspect gift pron moody atmosphere lay thickly forebode air scene pron suffocate thank cleverly construe editing arthur coburn bob murawski successful use different eerie sound effect good music score christopher young achieve scary undercurrent dread help strong screenplay billy bob thornton tom epperson pron setting delightful cast gift rare thriller actually thrill offer fair share chills pron groundbreakingly original pron sure entertaining ride duration pron running time\\n',\n",
    " '\\n',\n",
    " '\\n',\n",
    " '\\n',\n",
    " 'bwhat look necessarily perfection strong idea despite flaw pron prefer pron bettermade thoughtprovoking red line flawed pron provoke terence malick return filmmake 20 year day heaven produce meditative look war unlike year save private ryan dwell war necessary evil explore moral ambiguity thereof red line simply say war waste obvious experience pron realize profound waste pron save private ryan underlying practical acceptance war occur pron great cost red line say idealistically avoid cost message necessarily correct pron just depend point view malicks war set tropical paradise john tolls cinematography lush setting pose question pron fight face beauty save private ryan capture german soldier present moral quandary let pron red line japanese present moral quandary war place pron just like americans frighten angry grieving pray separate pron war flaw red line come voiceover unbelievable come character pretentious corny voiceover tell pron image pron completely unnecessary dispense pron malick achieve tarkovskian grandeur instead pron distract selfconsciousness aside malicks direction stunning tracking shot windswept hill transport speed shore extraordinary sean penn elias koteas nick nolte good performance penn subtle sergeant try hide pron humanism kotea genuine compassionate captain nolte startling colonel blood vessel burst pron win pron battle john travolta george clooney bad cameo role ultimately red line character pron drama pron frequently criticize pron lack dramatic structure malick clearly different thing pron mind think dramatic entertainment war exploitative malick work theme red line provoking\\n',\n",
    " '\\n',\n",
    " '\\n',\n",
    " '\\n',\n",
    " 'bthe law crowd romantic state lead end end pron familiar law maybe pron trailer lead end pron regular reader pron hear pron say countless time pron know drive pron crazy end journey end worth pron pron definitely melissa joan hart abcs sabrina teenage witch like hunky stud basketball team adrien grenier pron grungy neighbor just break pron activist girlfriend apparently pron want pron exgirlfriend jealous pron pron want pron big year end dance pretend date reason hart grenier bath turn pron hunky stud grenier like pron new popularity turn pron friend crazy scheme work care teen comedy resurgence late surprisingly good term comedy like hardly wait 10 thing hate pron work extent pron kiss writer realize high school joke write pron script accordingly know writer intention drive pron crazy smart comedy obvious ending worth just teen whine pron big dance pron favor kid job just shut hell honesty good end credit normally say pron follow joke finally case end credit really entertaining obligatory second playing britney spears titular song quick commercial jingle burger joint kid hang brief rendition school song pron high school great entertaining 90 minute precede pron scifi fan note brief appearance stephen collins star trek motion picture faye grant tv miniserie final battle pg13\\n',\n",
    " '\\n',\n",
    " '\\n',\n",
    " '\\n',\n",
    " 'bit ironic good cinema history invariably original director cut alien abyss wild bunch blade runner terminator prime example filmmaker integrity later chop muck studio advent dvd format provide accessible way original cut public provide freak like pron ability enrapture extension classic dvd release original international version luc bessons 1995 masterpiece professional know world prime example good instant classic director cut year hear international version available laserdisc format elude pron year buy laserdisc player pron uncle don 100 buck just watch certain director cut include countless search laserdisc store pron follow story play jean reno professional hit man italian mob crew run danny aiello pron live door ferociously independent 12yearold girl mathilda play newcomer natalie portman father involve drug crooked cop day crew cop lead gary oldman overthetop performance kill pron entire family mathilda buy grocery pity pron hide pron pron apartment pron return save pron life mathilda learn ons hit man profession decide follow ons footstep cleaner pron fall love pron manage reawaken emotion pron lock away pron profession point difference american version international version really kick international version contain additional 24 minute footage pertain directly relationship mathilda footage american censors deem explicit assume american censor feel define character development american audience handle good extra footage understanding mathilda ons motivation pertain later action involve oldman pron crew bad cop previously unseen cameo great french actor jeanhugues anglade star queen margot besson la femme nikita kill zoe additional scene replace matildas relationship bring pron emotionally close draw strong bond character murky american version ironic thing international version inclusion miss scene primarily heavy emotional drama punctuate big action scene beginning end better reflect drama french cinema lace piece reflect brutality american cinema pron advice throw away pron copy professional throw buck pick newly restore cinematic masterpiece directorwriter luc besson producer luc besson claude besson star jean reno natalie portman gary oldman danny aiello\\n']"
   ]
  },
  {
   "cell_type": "markdown",
   "metadata": {},
   "source": [
    "### QUESTION 2\n",
    "\n",
    "Use the CountVectorizer from sklearn to vectorize the documents.\n",
    "\n",
    "Additional resources:\n",
    "\n",
    "* [scikit-learn CountVectorizer](https://scikit-learn.org/stable/modules/generated/sklearn.feature_extraction.text.CountVectorizer.html)\n",
    "* [scikit-learn working with text](https://scikit-learn.org/stable/tutorial/text_analytics/working_with_text_data.html)\n",
    "\n",
    "Because this is an exercise in visualization set the `max_features` to something like 500.  In the context of supervised learning it is reasonable to grid-search to optimize this parameter."
   ]
  },
  {
   "cell_type": "code",
   "execution_count": 6,
   "metadata": {},
   "outputs": [
    {
     "name": "stdout",
     "output_type": "stream",
     "text": [
      "ready\n"
     ]
    },
    {
     "name": "stderr",
     "output_type": "stream",
     "text": [
      "/usr/local/lib/python3.8/site-packages/ipykernel/ipkernel.py:287: DeprecationWarning: `should_run_async` will not call `transform_cell` automatically in the future. Please pass the result to `transformed_cell` argument and any exception that happen during thetransform in `preprocessing_exc_tuple` in IPython 7.17 and above.\n",
      "  and should_run_async(code)\n"
     ]
    }
   ],
   "source": [
    "## YOUR CODE HERE\n",
    "\n",
    "max_features = 500\n",
    "\n",
    "# Create a CountVectorizer object\n",
    "tf_vectorizer = CountVectorizer(max_df=0.95, min_df=2, max_features=max_features, stop_words='english')\n",
    "\n",
    "# Fit and transform this object to the processed reviews\n",
    "tf = tf_vectorizer.fit_transform(processed)\n",
    "print(\"ready\")"
   ]
  },
  {
   "cell_type": "markdown",
   "metadata": {},
   "source": [
    "### QUESTION 3\n",
    "\n",
    "Fit a LDA model to the corpus. For example, you could use something like the following.\n",
    "\n",
    "```python\n",
    "n_topics = 10\n",
    "lda_model = LatentDirichletAllocation(n_components=n_topics, max_iter=5,\n",
    "                                      learning_method='online',\n",
    "                                      learning_offset=50.,\n",
    "                                      random_state=0)\n",
    "\n",
    "lda_model.fit(tf)\n",
    "```\n",
    "\n",
    "\n",
    "* [scikit-learn's LDA](https://scikit-learn.org/stable/modules/generated/sklearn.decomposition.LatentDirichletAllocation.html)\n",
    "* [scikit-learn's user guide for LDA](https://scikit-learn.org/stable/modules/decomposition.html#latentdirichletallocation)"
   ]
  },
  {
   "cell_type": "code",
   "execution_count": 7,
   "metadata": {},
   "outputs": [
    {
     "name": "stderr",
     "output_type": "stream",
     "text": [
      "/usr/local/lib/python3.8/site-packages/ipykernel/ipkernel.py:287: DeprecationWarning: `should_run_async` will not call `transform_cell` automatically in the future. Please pass the result to `transformed_cell` argument and any exception that happen during thetransform in `preprocessing_exc_tuple` in IPython 7.17 and above.\n",
      "  and should_run_async(code)\n"
     ]
    },
    {
     "data": {
      "text/plain": [
       "LatentDirichletAllocation(learning_method='online', learning_offset=50.0,\n",
       "                          max_iter=5, random_state=0)"
      ]
     },
     "execution_count": 7,
     "metadata": {},
     "output_type": "execute_result"
    }
   ],
   "source": [
    "## YOUR CODE HERE\n",
    "n_topics = 10\n",
    "\n",
    "lda_model = LatentDirichletAllocation(n_components=n_topics, max_iter=5,\n",
    "                                      learning_method='online',\n",
    "                                      learning_offset=50.,\n",
    "                                      random_state=0)\n",
    "\n",
    "# Fit the model to the bag of word we created earlier\n",
    "lda_model.fit(tf)"
   ]
  },
  {
   "cell_type": "markdown",
   "metadata": {},
   "source": [
    "## QUESTION 4\n",
    "\n",
    "Visualize the corpus using [pyldavis](https://github.com/bmabey/pyLDAvis).\n",
    "\n",
    "```python\n",
    "pyLDAvis.sklearn.prepare(lda_model,tf, tf_vectorizer, R=20)\n",
    "```\n",
    "\n",
    "* [PyLDAViz documentation](https://pyldavis.readthedocs.io/en/latest)\n",
    "* [PyLDAViz demos](https://pyldavis.readthedocs.io/en/latest/readme.html#video-demos)"
   ]
  },
  {
   "cell_type": "code",
   "execution_count": 8,
   "metadata": {},
   "outputs": [
    {
     "name": "stderr",
     "output_type": "stream",
     "text": [
      "/usr/local/lib/python3.8/site-packages/ipykernel/ipkernel.py:287: DeprecationWarning: `should_run_async` will not call `transform_cell` automatically in the future. Please pass the result to `transformed_cell` argument and any exception that happen during thetransform in `preprocessing_exc_tuple` in IPython 7.17 and above.\n",
      "  and should_run_async(code)\n"
     ]
    },
    {
     "data": {
      "text/html": [
       "\n",
       "<link rel=\"stylesheet\" type=\"text/css\" href=\"https://cdn.rawgit.com/bmabey/pyLDAvis/files/ldavis.v1.0.0.css\">\n",
       "\n",
       "\n",
       "<div id=\"ldavis_el4268748505386406065181663\"></div>\n",
       "<script type=\"text/javascript\">\n",
       "\n",
       "var ldavis_el4268748505386406065181663_data = {\"mdsDat\": {\"x\": [-0.0536002526401455, -0.014977893216424629, 0.006915520432893136, 0.007945348246227805, 0.009266876655835123, 0.008911855043259875, 0.008569752957181652, 0.009698794021652463, 0.008651168292633373, 0.008618830206886705], \"y\": [-4.1465342419534415e-06, 0.00011399250072353746, -0.0014997960119394942, -0.00026572157102231685, -0.00016255288965653282, 0.0003015483946785213, 0.0007281115037556973, -0.00025428499266334954, 0.000792038789745558, 0.00025081081062044806], \"topics\": [1, 2, 3, 4, 5, 6, 7, 8, 9, 10], \"cluster\": [1, 1, 1, 1, 1, 1, 1, 1, 1, 1], \"Freq\": [98.36160868492581, 1.0032224963743956, 0.07939625614292266, 0.07939623836293305, 0.07939613720575153, 0.07939609932682515, 0.07939604558466384, 0.07939604316266481, 0.07939601112993924, 0.0793959877840978]}, \"tinfo\": {\"Term\": [\"pron\", \"like\", \"good\", \"character\", \"end\", \"just\", \"action\", \"scene\", \"life\", \"war\", \"work\", \"year\", \"turn\", \"man\", \"line\", \"day\", \"thing\", \"come\", \"red\", \"say\", \"pron\", \"like\", \"good\", \"year\", \"war\", \"end\", \"character\", \"red\", \"just\", \"line\", \"devil\", \"action\", \"turn\", \"life\", \"american\", \"scene\", \"ryan\", \"man\", \"day\", \"look\", \"work\", \"thing\", \"come\", \"say\", \"lightweight\", \"appealing\", \"murky\", \"child\", \"effort\", \"curious\", \"foreign\", \"hour\", \"theme\", \"ed\", \"plot\", \"extra\", \"market\", \"hinge\", \"choose\", \"bit\", \"actress\", \"hope\", \"pay\", \"maybe\", \"weight\", \"wonder\", \"keanu\", \"mind\", \"pron\", \"dennis\", \"watch\", \"think\", \"like\", \"good\", \"character\", \"director\", \"john\", \"team\", \"scene\", \"right\", \"know\", \"friend\", \"people\", \"thing\", \"work\", \"end\", \"just\", \"finally\", \"mass\", \"plot\", \"murky\", \"combine\", \"lightweight\", \"emotion\", \"lace\", \"appealing\", \"bit\", \"curious\", \"form\", \"hope\", \"available\", \"effort\", \"market\", \"ultimately\", \"hour\", \"humor\", \"public\", \"credit\", \"keanu\", \"reason\", \"screenwriter\", \"mans\", \"eat\", \"wonder\", \"battle\", \"convincing\", \"whine\", \"follow\", \"motivation\", \"american\", \"star\", \"year\", \"walk\", \"pron\", \"story\", \"scene\", \"bit\", \"murky\", \"combine\", \"extra\", \"lightweight\", \"remain\", \"filmmake\", \"mass\", \"effort\", \"public\", \"appealing\", \"plot\", \"weight\", \"available\", \"fair\", \"choose\", \"form\", \"deserve\", \"reeve\", \"neighbor\", \"sign\", \"trailer\", \"air\", \"husband\", \"whine\", \"confused\", \"subtle\", \"situation\", \"pertain\", \"picture\", \"original\", \"keanu\", \"strong\", \"scene\", \"worth\", \"face\", \"audience\", \"pron\", \"lightweight\", \"bit\", \"murky\", \"plot\", \"lot\", \"family\", \"fair\", \"fall\", \"effort\", \"mix\", \"combine\", \"appealing\", \"choose\", \"hope\", \"lush\", \"quick\", \"foreign\", \"remain\", \"reeve\", \"achieve\", \"idea\", \"maybe\", \"truly\", \"kick\", \"direction\", \"correct\", \"act\", \"leave\", \"actually\", \"entertainment\", \"credit\", \"worth\", \"write\", \"girl\", \"script\", \"actor\", \"appealing\", \"fair\", \"lightweight\", \"bit\", \"combine\", \"plot\", \"curious\", \"kick\", \"actress\", \"public\", \"sound\", \"basketball\", \"market\", \"foreign\", \"murky\", \"reeve\", \"mother\", \"filmmake\", \"countless\", \"pretend\", \"begin\", \"confused\", \"situation\", \"convincing\", \"help\", \"long\", \"happen\", \"watch\", \"team\", \"boy\", \"action\", \"man\", \"know\", \"come\", \"save\", \"story\", \"murky\", \"appealing\", \"lightweight\", \"hinge\", \"effort\", \"curious\", \"reeve\", \"hope\", \"mass\", \"fair\", \"nice\", \"actress\", \"base\", \"bit\", \"lush\", \"trailer\", \"music\", \"search\", \"pay\", \"notable\", \"pity\", \"stumble\", \"wrong\", \"woman\", \"confused\", \"simply\", \"subtle\", \"taut\", \"peter\", \"especially\", \"love\", \"think\", \"happen\", \"john\", \"ryan\", \"end\", \"appealing\", \"murky\", \"fair\", \"family\", \"hinge\", \"hour\", \"achieve\", \"lightweight\", \"amazing\", \"sword\", \"actress\", \"choose\", \"aside\", \"basketball\", \"reeve\", \"humor\", \"curious\", \"lot\", \"combine\", \"emotional\", \"whine\", \"journey\", \"countless\", \"available\", \"new\", \"quick\", \"memorable\", \"24\", \"direction\", \"son\", \"money\", \"tell\", \"ending\", \"follow\", \"motivation\", \"away\", \"young\", \"team\", \"appealing\", \"hinge\", \"bit\", \"murky\", \"effort\", \"lush\", \"theme\", \"plot\", \"lie\", \"filmmake\", \"humor\", \"deserve\", \"lightweight\", \"lot\", \"extra\", \"pity\", \"actress\", \"aside\", \"pay\", \"countless\", \"book\", \"collins\", \"spy\", \"screenwriter\", \"wrong\", \"quick\", \"really\", \"occur\", \"oscar\", \"town\", \"act\", \"actor\", \"motivation\", \"probably\", \"think\", \"bad\", \"father\", \"way\", \"turn\", \"time\", \"plot\", \"theme\", \"murky\", \"mother\", \"curious\", \"filmmake\", \"lightweight\", \"basketball\", \"fair\", \"reeve\", \"actress\", \"public\", \"place\", \"appealing\", \"remain\", \"choose\", \"market\", \"hour\", \"countless\", \"bit\", \"engineer\", \"genuine\", \"taut\", \"book\", \"unlike\", \"form\", \"fun\", \"act\", \"leave\", \"away\", \"apparently\", \"minute\", \"memorable\", \"convincing\", \"include\", \"real\", \"big\", \"friend\", \"play\", \"thing\", \"bad\", \"run\"], \"Freq\": [198.0, 14.0, 13.0, 12.0, 10.0, 9.0, 9.0, 9.0, 8.0, 8.0, 8.0, 7.0, 7.0, 7.0, 7.0, 7.0, 7.0, 7.0, 7.0, 7.0, 197.9849611500988, 14.117776829198345, 13.631667006764625, 7.904404299998315, 8.13787550879165, 10.465055424981662, 12.386809637422102, 7.405648871116207, 9.747182689122608, 7.737981629452148, 7.083514471743876, 9.392467888664365, 7.7915768158512, 8.600955712763211, 6.9646677058195365, 9.38438724353967, 7.037465363315045, 7.762704775376827, 7.8282673956127, 6.34439541412921, 8.07996535105535, 7.6833136306982865, 7.540926093203244, 7.197684181930798, 0.06587374382383382, 0.05583740420565096, 0.06076243949511885, 0.07426854749700776, 0.05456621042191827, 0.05449930317026835, 0.06309409187502774, 0.05522272177761336, 0.058418677069301136, 0.058881058648587545, 0.050700951245330465, 0.05751995435577536, 0.05596260297554936, 0.05679114514433391, 0.050157764587805395, 0.04669786354252997, 0.05001685743680578, 0.05163983134083209, 0.053241237435980505, 0.05456324805725134, 0.05110368731672496, 0.05771377888954363, 0.06100365971734306, 0.06022399957436952, 0.5634792164403646, 0.05897094599553791, 0.07129342378478515, 0.07238977741363548, 0.08909155958744373, 0.08459440801224306, 0.07893869613687948, 0.0658219460464201, 0.05958822069720917, 0.062716131418072, 0.06705597271375568, 0.06330398309634552, 0.06341346587275654, 0.06265175123278909, 0.0636290489930897, 0.06355160497976427, 0.06196541575181726, 0.061928831043558646, 0.06134588875496408, 0.005550449734913387, 0.005120138307749347, 0.004660140685894421, 0.004731246120592631, 0.004547367743361943, 0.003991363914195368, 0.005411685541476118, 0.00490387844483726, 0.003703570993783747, 0.003961578874985382, 0.0038835647823902146, 0.0046183974584960204, 0.004424394209143459, 0.004810308412765889, 0.003791376426237288, 0.004268066643363699, 0.004403372636208219, 0.003905296660388472, 0.004070253970223039, 0.004050539581733799, 0.004799207142222948, 0.005083052115044061, 0.004305683725243341, 0.0043911980124536395, 0.004345412916722601, 0.004733458330018579, 0.004588576265696943, 0.004764131965040361, 0.004585767653205247, 0.004439744319039974, 0.005061135537266748, 0.004637447886973857, 0.005315616597785444, 0.004837761430817736, 0.004928798402187048, 0.004648854250052748, 0.005412865156548058, 0.004654072955350884, 0.004676064137060275, 0.004584181299583245, 0.0045985895965155515, 0.004684213411939098, 0.0049852431715075, 0.004075405804317143, 0.004598120412423721, 0.004770653744282557, 0.0044626615021754945, 0.0040311803138401575, 0.004419993876271799, 0.003595738837285505, 0.0038366435356707875, 0.004334532664358899, 0.004735319939928213, 0.0038780516305665464, 0.0039864465879091504, 0.004437704941986423, 0.004200412340576864, 0.0038059201033348177, 0.004786318757731872, 0.0043547657448315125, 0.004525743294046244, 0.004770996010529875, 0.004890821780499336, 0.004611368583928121, 0.004540843693854954, 0.004532477044854819, 0.00454932140949475, 0.004851525640803296, 0.004485194429962321, 0.004833420486732234, 0.004653426511474866, 0.00489052339884947, 0.004875805913469976, 0.004610465129096191, 0.004565487213657955, 0.004558163097104944, 0.004686859512360232, 0.004265990868066918, 0.004470947758095923, 0.004408565927997288, 0.004282569694390333, 0.004674062342740839, 0.004635455257192913, 0.00409192653333967, 0.004553040950126004, 0.0039262641530469974, 0.004572142484736759, 0.004206036281328234, 0.0036835226249958323, 0.004110962452879023, 0.004393701035743131, 0.004514571628910014, 0.004638683441941683, 0.004465987110020497, 0.004174200485105538, 0.00390349074831563, 0.004300897846022375, 0.004886482102864774, 0.004510430807037657, 0.004729457626604032, 0.004444196290023806, 0.0051761865455754365, 0.004571342786456333, 0.0046763424917359315, 0.00464742708242775, 0.0047566661591905875, 0.004724464528599592, 0.004546852798109744, 0.004722357650695835, 0.004617351119711266, 0.004716686680976125, 0.004744762027086781, 0.004579466434636765, 0.0043722009130278145, 0.0046065357884094394, 0.004200695300625238, 0.00442563167135485, 0.0045233465211403055, 0.0042459975786701375, 0.004191610013332248, 0.005039466877920799, 0.004447627614044903, 0.004404674185854649, 0.004514870536336715, 0.0045027116398166705, 0.004410148209993732, 0.004573245683225852, 0.003918724714624816, 0.004003412237385404, 0.004214510291419952, 0.004408556975201942, 0.00446722941524088, 0.004384955753507002, 0.004480420671812081, 0.004698891688039849, 0.004698530338938782, 0.00453922457087992, 0.004853183856465378, 0.004562195266701496, 0.004637568915779533, 0.004699773158337373, 0.004676283953006129, 0.0045374796101209655, 0.004903162618169698, 0.004712592461795415, 0.004629901289443522, 0.004562791854616517, 0.004516220013984106, 0.004505075549839141, 0.004769075454260781, 0.003985407885164786, 0.004042468988807537, 0.004682160672682123, 0.0039336299891579015, 0.0039219760968793186, 0.004078859807652686, 0.004335813092796558, 0.004152448013931654, 0.0038951439265337753, 0.004725323083184036, 0.004115808726403246, 0.0046190691110035405, 0.0037886450467233307, 0.004322992317179754, 0.0046133920142668785, 0.004141092145473311, 0.004885906397496607, 0.004325511577965013, 0.004595367216613709, 0.004591336208385316, 0.004534609665013923, 0.004656222858313467, 0.00467625764176175, 0.004447678707872823, 0.0045565228310794365, 0.004408941120247175, 0.0043559339610725716, 0.004577727925084239, 0.004472283889398027, 0.004645776496711244, 0.004957194879780357, 0.004608261077865682, 0.004500644446063951, 0.004481367118040906, 0.00444868617751668, 0.004208037429489147, 0.004434194695745006, 0.00439543772613579, 0.004644957797034851, 0.0048395343922183025, 0.004388316556185195, 0.004711036936813644, 0.0039027225160065486, 0.004552107869037978, 0.004653225739771649, 0.004250976858160853, 0.004132491421020773, 0.004886409945200986, 0.004442106456451398, 0.0040132905431355765, 0.004208691963168361, 0.0038014381623207357, 0.004223160555733481, 0.004002614008311309, 0.004481963745983683, 0.004949696037049476, 0.004881799632198842, 0.00442084173340619, 0.0045684017090413176, 0.004901509144854377, 0.004375556723932963, 0.0047491856779053815, 0.0046666146708751145, 0.004711037304520565, 0.004617210743039692, 0.004796358003762517, 0.0046476217438342895, 0.004703164783727687, 0.004737773987075048, 0.004569918755823428, 0.004541721291448876, 0.004560207326042744, 0.004563016035586578, 0.004334065384999877, 0.004968842514185085, 0.004321364313063651, 0.004165931186472296, 0.004024227777945435, 0.004668894531508771, 0.0044911266640571, 0.00397555268366319, 0.00502115206902247, 0.0043887584508150125, 0.00405637040966847, 0.004153455048580158, 0.0035073176019948717, 0.004097625762660301, 0.004161678816256228, 0.0046627818549577794, 0.003951508327108716, 0.00453254408324201, 0.00428963165956797, 0.0042823947770907166, 0.004469782970792227, 0.004500221987627631, 0.004799539334922097, 0.0044103436903209225, 0.00453850526283315, 0.004322674958686937, 0.004859190552235435, 0.004506339166530347, 0.004547775247779218, 0.004624695133779696, 0.004418145654938084, 0.00511142414903214, 0.0045807824162876435, 0.004899890428952642, 0.004950463518019547, 0.004688859193749981, 0.004529449963255177, 0.00454363849779097, 0.004662635380134658, 0.004573156849700576, 0.004277632647039795, 0.0046225517350615645, 0.00411649644758031, 0.004376635255036124, 0.0039000451590366072, 0.004547850384875603, 0.0036906857646140726, 0.004417300881972942, 0.0038982844757639817, 0.00397418484342475, 0.0041013032071327915, 0.004190759406493858, 0.004394527344357559, 0.0035072050620047275, 0.004177463324911661, 0.003948633965459193, 0.004231854547045406, 0.0038994683719623126, 0.004317069393461652, 0.003676441203456722, 0.00476576873415828, 0.004772087573510297, 0.004495834943807959, 0.004434409843760921, 0.004465146921825006, 0.004253368202733324, 0.004502786587865797, 0.004453060996151887, 0.004486870876816965, 0.004720600048443471, 0.004623761759426383, 0.004652787522144482, 0.004612533100133462, 0.004478224549326728, 0.004705808305030278, 0.004577005908179036, 0.004741075947861746, 0.004788528945568598, 0.004599577178363738, 0.004613156018683094, 0.004533483881853691, 0.004474309867209495], \"Total\": [198.0, 14.0, 13.0, 12.0, 10.0, 9.0, 9.0, 9.0, 8.0, 8.0, 8.0, 7.0, 7.0, 7.0, 7.0, 7.0, 7.0, 7.0, 7.0, 7.0, 198.58147142473916, 14.237385491074052, 13.748360265183571, 7.972617239774858, 8.209478054027722, 10.558678848666894, 12.497971041140245, 7.473529665668385, 9.838719661112874, 7.811833115631251, 7.152527842846604, 9.48401856705817, 7.869143962924019, 8.688941860054364, 7.0375605106434955, 9.483828423149133, 7.112272086702561, 7.845823518561908, 7.912927150650778, 6.417886462202025, 8.174520652832543, 7.7788645615368495, 7.632605005421678, 7.2899548183306715, 2.475608404148545, 2.4068346305407347, 2.6332545451492044, 3.322301637456418, 2.560234696113932, 2.5719430833876276, 3.0558107951442373, 2.7225370352291836, 2.9116011978294867, 2.9663953127869958, 2.5831762024821474, 2.9417333853028094, 2.9336852793488637, 2.9940885500486054, 2.733370031083789, 2.6122712845707503, 2.8105900241954007, 2.9386834959807993, 3.0645633086843906, 3.1443214328712727, 2.9468228538622525, 3.494993247252798, 3.81039754378253, 3.803060169456132, 198.58147142473916, 3.7150971949558156, 5.548912783095336, 6.0238503200808955, 14.237385491074052, 13.748360265183571, 12.497971041140245, 6.433130241046135, 3.948034988488806, 5.39730664936218, 9.483828423149133, 6.5038748142458775, 6.759716166627554, 6.188749529921658, 7.215367395397926, 7.7788645615368495, 8.174520652832543, 10.558678848666894, 9.838719661112874, 3.0162387167484987, 2.8207575259275908, 2.5831762024821474, 2.6332545451492044, 2.747900637886591, 2.475608404148545, 3.3708762928420186, 3.1378784383310547, 2.4068346305407347, 2.6122712845707503, 2.5719430833876276, 3.0650502384507825, 2.9386834959807993, 3.2216756787378675, 2.560234696113932, 2.9336852793488637, 3.0577811717381187, 2.7225370352291836, 2.845018342649259, 2.874391621609227, 3.476008449954582, 3.81039754378253, 3.0901030426986495, 3.212427157825355, 3.174499822633106, 3.689554991718777, 3.494993247252798, 3.7974772557766836, 3.5895166593599344, 3.4198361097614147, 5.56088902548943, 4.038506516362163, 7.0375605106434955, 4.974243772883627, 7.972617239774858, 4.678713281625514, 198.58147142473916, 5.075883693242455, 9.483828423149133, 2.6122712845707503, 2.6332545451492044, 2.747900637886591, 2.9417333853028094, 2.475608404148545, 2.8675427405752885, 3.0135687510722855, 2.8207575259275908, 2.560234696113932, 2.874391621609227, 2.4068346305407347, 2.5831762024821474, 2.9468228538622525, 3.2216756787378675, 2.6489111803992036, 2.733370031083789, 3.0650502384507825, 2.917333285852853, 2.700694956084667, 3.3977139018388693, 3.0917101296448997, 3.240928421691104, 3.501594444090811, 3.6921132187418118, 3.4198361097614147, 3.351674155758678, 3.3792084187748306, 3.436430717933942, 4.0312582402275545, 3.3257694477877564, 4.383917124655579, 3.81039754378253, 6.48736429670241, 9.483828423149133, 4.272947026817128, 4.702982417723095, 4.351323069296921, 198.58147142473916, 2.475608404148545, 2.6122712845707503, 2.6332545451492044, 2.5831762024821474, 2.8942902399046124, 2.870885775571317, 2.6489111803992036, 2.948188508807401, 2.560234696113932, 2.9868974974372553, 2.747900637886591, 2.4068346305407347, 2.733370031083789, 2.9386834959807993, 3.0228684212977894, 3.152273578727357, 3.0558107951442373, 2.8675427405752885, 2.700694956084667, 2.986633459053655, 3.399501530845976, 3.1443214328712727, 3.3396091817571643, 3.106647223478575, 3.8906644007812696, 3.2479393582803886, 3.402622064944405, 3.4844403155113914, 4.022131512958994, 4.120850918023227, 3.476008449954582, 4.272947026817128, 3.8395699468233344, 4.800350012646366, 6.661868373150764, 5.794930231022504, 2.4068346305407347, 2.6489111803992036, 2.475608404148545, 2.6122712845707503, 2.747900637886591, 2.5831762024821474, 2.5719430833876276, 3.106647223478575, 2.8105900241954007, 2.874391621609227, 2.978622737448121, 2.988666747145795, 2.9336852793488637, 3.0558107951442373, 2.6332545451492044, 2.700694956084667, 2.8739310748137172, 3.0135687510722855, 3.066776852056511, 3.0774165027711984, 3.155418595935524, 3.351674155758678, 3.436430717933942, 3.5895166593599344, 5.272358140958519, 3.8087812663796354, 4.467172167353511, 5.548912783095336, 5.39730664936218, 3.9614957435397242, 9.48401856705817, 7.845823518561908, 6.759716166627554, 7.632605005421678, 5.502937823828917, 5.075883693242455, 2.6332545451492044, 2.4068346305407347, 2.475608404148545, 2.9940885500486054, 2.560234696113932, 2.5719430833876276, 2.700694956084667, 2.9386834959807993, 2.8207575259275908, 2.6489111803992036, 3.2145710115929025, 2.8105900241954007, 3.181626092901734, 2.6122712845707503, 3.0228684212977894, 3.240928421691104, 2.9093771226865752, 3.450406076688079, 3.0645633086843906, 3.259286341378746, 3.31617478205832, 3.2875902662373324, 3.4213061107077323, 3.6892835591818516, 3.351674155758678, 3.5564639018261968, 3.3792084187748306, 3.2745732018009237, 3.8607641725658297, 3.609562335598854, 4.334874404692945, 6.0238503200808955, 4.467172167353511, 3.948034988488806, 7.112272086702561, 10.558678848666894, 2.4068346305407347, 2.6332545451492044, 2.6489111803992036, 2.870885775571317, 2.9940885500486054, 2.7225370352291836, 2.986633459053655, 2.475608404148545, 2.9421501358284474, 3.0326171880000135, 2.8105900241954007, 2.733370031083789, 3.234606931061189, 2.988666747145795, 2.700694956084667, 2.845018342649259, 2.5719430833876276, 2.8942902399046124, 2.747900637886591, 3.0814562584787435, 3.4198361097614147, 3.386939584672835, 3.066776852056511, 3.2216756787378675, 3.6432126112847705, 3.152273578727357, 3.91960433937891, 3.7398390681844167, 3.8906644007812696, 3.7182454266588754, 4.711808018577875, 4.1130725979257745, 4.605882714809243, 5.56088902548943, 4.038506516362163, 3.9562023139587, 4.500713793339615, 5.39730664936218, 2.4068346305407347, 2.9940885500486054, 2.6122712845707503, 2.6332545451492044, 2.560234696113932, 3.0228684212977894, 2.9116011978294867, 2.5831762024821474, 3.4291033746573563, 3.0135687510722855, 2.845018342649259, 2.917333285852853, 2.475608404148545, 2.8942902399046124, 2.9417333853028094, 3.31617478205832, 2.8105900241954007, 3.234606931061189, 3.0645633086843906, 3.066776852056511, 3.223703301615278, 3.257953843223077, 3.562879867189823, 3.212427157825355, 3.4213061107077323, 3.152273578727357, 4.22105876153602, 3.5787933001387158, 3.7281544481472686, 3.9657324079602447, 3.402622064944405, 5.794930231022504, 4.038506516362163, 5.582069103688772, 6.0238503200808955, 5.581682612362675, 4.1274461119311905, 4.308629876025465, 7.869143962924019, 5.711454584379833, 2.5831762024821474, 2.9116011978294867, 2.6332545451492044, 2.8739310748137172, 2.5719430833876276, 3.0135687510722855, 2.475608404148545, 2.988666747145795, 2.6489111803992036, 2.700694956084667, 2.8105900241954007, 2.874391621609227, 3.014566918238752, 2.4068346305407347, 2.8675427405752885, 2.733370031083789, 2.9336852793488637, 2.7225370352291836, 3.066776852056511, 2.6122712845707503, 3.4146831217603624, 3.507454979244983, 3.2745732018009237, 3.223703301615278, 3.278142886511694, 3.0650502384507825, 3.4257483675942555, 3.402622064944405, 3.4844403155113914, 3.9562023139587, 3.77492904168517, 3.96055704428803, 3.91960433937891, 3.5895166593599344, 4.360051222376605, 4.067447134354903, 5.540127589321435, 6.188749529921658, 5.9982998169623665, 7.7788645615368495, 5.581682612362675, 4.569575710800304], \"Category\": [\"Default\", \"Default\", \"Default\", \"Default\", \"Default\", \"Default\", \"Default\", \"Default\", \"Default\", \"Default\", \"Default\", \"Default\", \"Default\", \"Default\", \"Default\", \"Default\", \"Default\", \"Default\", \"Default\", \"Default\", \"Topic1\", \"Topic1\", \"Topic1\", \"Topic1\", \"Topic1\", \"Topic1\", \"Topic1\", \"Topic1\", \"Topic1\", \"Topic1\", \"Topic1\", \"Topic1\", \"Topic1\", \"Topic1\", \"Topic1\", \"Topic1\", \"Topic1\", \"Topic1\", \"Topic1\", \"Topic1\", \"Topic1\", \"Topic1\", \"Topic1\", \"Topic1\", \"Topic2\", \"Topic2\", \"Topic2\", \"Topic2\", \"Topic2\", \"Topic2\", \"Topic2\", \"Topic2\", \"Topic2\", \"Topic2\", \"Topic2\", \"Topic2\", \"Topic2\", \"Topic2\", \"Topic2\", \"Topic2\", \"Topic2\", \"Topic2\", \"Topic2\", \"Topic2\", \"Topic2\", \"Topic2\", \"Topic2\", \"Topic2\", \"Topic2\", \"Topic2\", \"Topic2\", \"Topic2\", \"Topic2\", \"Topic2\", \"Topic2\", \"Topic2\", \"Topic2\", \"Topic2\", \"Topic2\", \"Topic2\", \"Topic2\", \"Topic2\", \"Topic2\", \"Topic2\", \"Topic2\", \"Topic2\", \"Topic2\", \"Topic3\", \"Topic3\", \"Topic3\", \"Topic3\", \"Topic3\", \"Topic3\", \"Topic3\", \"Topic3\", \"Topic3\", \"Topic3\", \"Topic3\", \"Topic3\", \"Topic3\", \"Topic3\", \"Topic3\", \"Topic3\", \"Topic3\", \"Topic3\", \"Topic3\", \"Topic3\", \"Topic3\", \"Topic3\", \"Topic3\", \"Topic3\", \"Topic3\", \"Topic3\", \"Topic3\", \"Topic3\", \"Topic3\", \"Topic3\", \"Topic3\", \"Topic3\", \"Topic3\", \"Topic3\", \"Topic3\", \"Topic3\", \"Topic3\", \"Topic3\", \"Topic3\", \"Topic4\", \"Topic4\", \"Topic4\", \"Topic4\", \"Topic4\", \"Topic4\", \"Topic4\", \"Topic4\", \"Topic4\", \"Topic4\", \"Topic4\", \"Topic4\", \"Topic4\", \"Topic4\", \"Topic4\", \"Topic4\", \"Topic4\", \"Topic4\", \"Topic4\", \"Topic4\", \"Topic4\", \"Topic4\", \"Topic4\", \"Topic4\", \"Topic4\", \"Topic4\", \"Topic4\", \"Topic4\", \"Topic4\", \"Topic4\", \"Topic4\", \"Topic4\", \"Topic4\", \"Topic4\", \"Topic4\", \"Topic4\", \"Topic4\", \"Topic4\", \"Topic5\", \"Topic5\", \"Topic5\", \"Topic5\", \"Topic5\", \"Topic5\", \"Topic5\", \"Topic5\", \"Topic5\", \"Topic5\", \"Topic5\", \"Topic5\", \"Topic5\", \"Topic5\", \"Topic5\", \"Topic5\", \"Topic5\", \"Topic5\", \"Topic5\", \"Topic5\", \"Topic5\", \"Topic5\", \"Topic5\", \"Topic5\", \"Topic5\", \"Topic5\", \"Topic5\", \"Topic5\", \"Topic5\", \"Topic5\", \"Topic5\", \"Topic5\", \"Topic5\", \"Topic5\", \"Topic5\", \"Topic5\", \"Topic6\", \"Topic6\", \"Topic6\", \"Topic6\", \"Topic6\", \"Topic6\", \"Topic6\", \"Topic6\", \"Topic6\", \"Topic6\", \"Topic6\", \"Topic6\", \"Topic6\", \"Topic6\", \"Topic6\", \"Topic6\", \"Topic6\", \"Topic6\", \"Topic6\", \"Topic6\", \"Topic6\", \"Topic6\", \"Topic6\", \"Topic6\", \"Topic6\", \"Topic6\", \"Topic6\", \"Topic6\", \"Topic6\", \"Topic6\", \"Topic6\", \"Topic6\", \"Topic6\", \"Topic6\", \"Topic6\", \"Topic6\", \"Topic7\", \"Topic7\", \"Topic7\", \"Topic7\", \"Topic7\", \"Topic7\", \"Topic7\", \"Topic7\", \"Topic7\", \"Topic7\", \"Topic7\", \"Topic7\", \"Topic7\", \"Topic7\", \"Topic7\", \"Topic7\", \"Topic7\", \"Topic7\", \"Topic7\", \"Topic7\", \"Topic7\", \"Topic7\", \"Topic7\", \"Topic7\", \"Topic7\", \"Topic7\", \"Topic7\", \"Topic7\", \"Topic7\", \"Topic7\", \"Topic7\", \"Topic7\", \"Topic7\", \"Topic7\", \"Topic7\", \"Topic7\", \"Topic8\", \"Topic8\", \"Topic8\", \"Topic8\", \"Topic8\", \"Topic8\", \"Topic8\", \"Topic8\", \"Topic8\", \"Topic8\", \"Topic8\", \"Topic8\", \"Topic8\", \"Topic8\", \"Topic8\", \"Topic8\", \"Topic8\", \"Topic8\", \"Topic8\", \"Topic8\", \"Topic8\", \"Topic8\", \"Topic8\", \"Topic8\", \"Topic8\", \"Topic8\", \"Topic8\", \"Topic8\", \"Topic8\", \"Topic8\", \"Topic8\", \"Topic8\", \"Topic8\", \"Topic8\", \"Topic8\", \"Topic8\", \"Topic8\", \"Topic8\", \"Topic9\", \"Topic9\", \"Topic9\", \"Topic9\", \"Topic9\", \"Topic9\", \"Topic9\", \"Topic9\", \"Topic9\", \"Topic9\", \"Topic9\", \"Topic9\", \"Topic9\", \"Topic9\", \"Topic9\", \"Topic9\", \"Topic9\", \"Topic9\", \"Topic9\", \"Topic9\", \"Topic9\", \"Topic9\", \"Topic9\", \"Topic9\", \"Topic9\", \"Topic9\", \"Topic9\", \"Topic9\", \"Topic9\", \"Topic9\", \"Topic9\", \"Topic9\", \"Topic9\", \"Topic9\", \"Topic9\", \"Topic9\", \"Topic9\", \"Topic9\", \"Topic9\", \"Topic9\", \"Topic10\", \"Topic10\", \"Topic10\", \"Topic10\", \"Topic10\", \"Topic10\", \"Topic10\", \"Topic10\", \"Topic10\", \"Topic10\", \"Topic10\", \"Topic10\", \"Topic10\", \"Topic10\", \"Topic10\", \"Topic10\", \"Topic10\", \"Topic10\", \"Topic10\", \"Topic10\", \"Topic10\", \"Topic10\", \"Topic10\", \"Topic10\", \"Topic10\", \"Topic10\", \"Topic10\", \"Topic10\", \"Topic10\", \"Topic10\", \"Topic10\", \"Topic10\", \"Topic10\", \"Topic10\", \"Topic10\", \"Topic10\", \"Topic10\", \"Topic10\", \"Topic10\", \"Topic10\", \"Topic10\", \"Topic10\"], \"logprob\": [20.0, 19.0, 18.0, 17.0, 16.0, 15.0, 14.0, 13.0, 12.0, 11.0, 10.0, 9.0, 8.0, 7.0, 6.0, 5.0, 4.0, 3.0, 2.0, 1.0, -1.9193, -4.5601, -4.5951, -5.1401, -5.111, -4.8595, -4.6909, -5.2053, -4.9305, -5.1614, -5.2497, -4.9676, -5.1545, -5.0556, -5.2667, -4.9685, -5.2563, -5.1582, -5.1498, -5.3599, -5.1181, -5.1685, -5.1872, -5.2337, -5.3421, -5.5074, -5.4229, -5.2221, -5.5304, -5.5316, -5.3852, -5.5185, -5.4622, -5.4543, -5.6039, -5.4777, -5.5051, -5.4904, -5.6147, -5.6861, -5.6175, -5.5855, -5.555, -5.5305, -5.596, -5.4743, -5.4189, -5.4318, -3.1957, -5.4528, -5.263, -5.2478, -5.0402, -5.092, -5.1612, -5.3429, -5.4424, -5.3912, -5.3243, -5.3819, -5.3802, -5.3922, -5.3768, -5.378, -5.4033, -5.4038, -5.4133, -5.2794, -5.3601, -5.4543, -5.4391, -5.4788, -5.6092, -5.3047, -5.4033, -5.684, -5.6167, -5.6366, -5.4633, -5.5062, -5.4225, -5.6606, -5.5421, -5.5109, -5.631, -5.5896, -5.5945, -5.4249, -5.3674, -5.5334, -5.5137, -5.5242, -5.4386, -5.4697, -5.4322, -5.4703, -5.5027, -5.3717, -5.4591, -5.3227, -5.4169, -5.3982, -5.4567, -5.3045, -5.4556, -5.4508, -5.4707, -5.4676, -5.4491, -5.3868, -5.5883, -5.4677, -5.4308, -5.4976, -5.5992, -5.5072, -5.7136, -5.6487, -5.5267, -5.4383, -5.638, -5.6104, -5.5032, -5.5581, -5.6567, -5.4275, -5.522, -5.4835, -5.4308, -5.4059, -5.4648, -5.4802, -5.482, -5.4783, -5.414, -5.4925, -5.4178, -5.4557, -5.406, -5.409, -5.465, -5.4748, -5.4764, -5.4485, -5.5426, -5.4957, -5.5098, -5.5388, -5.4513, -5.4596, -5.5843, -5.4775, -5.6256, -5.4733, -5.5568, -5.6894, -5.5796, -5.5131, -5.486, -5.4589, -5.4968, -5.5644, -5.6314, -5.5345, -5.4068, -5.4869, -5.4395, -5.5017, -5.3492, -5.4735, -5.4508, -5.457, -5.4338, -5.4406, -5.4789, -5.441, -5.4635, -5.4422, -5.4363, -5.4717, -5.518, -5.4658, -5.5581, -5.5059, -5.4841, -5.5473, -5.5602, -5.376, -5.5009, -5.5106, -5.4859, -5.4886, -5.5094, -5.4731, -5.6275, -5.6062, -5.5548, -5.5098, -5.4965, -5.5151, -5.4936, -5.446, -5.4461, -5.4805, -5.4137, -5.4755, -5.4591, -5.4458, -5.4508, -5.4809, -5.4034, -5.4431, -5.4608, -5.4754, -5.4856, -5.4881, -5.4312, -5.6107, -5.5964, -5.4495, -5.6237, -5.6267, -5.5875, -5.5264, -5.5696, -5.6336, -5.4404, -5.5785, -5.4631, -5.6613, -5.5294, -5.4643, -5.5723, -5.4069, -5.5288, -5.4683, -5.4691, -5.4816, -5.4551, -5.4508, -5.5009, -5.4767, -5.5097, -5.5218, -5.4721, -5.4954, -5.4573, -5.3925, -5.4655, -5.4891, -5.4934, -5.5007, -5.5563, -5.504, -5.5127, -5.4575, -5.4165, -5.5144, -5.4434, -5.6316, -5.4777, -5.4557, -5.5462, -5.5744, -5.4068, -5.5022, -5.6037, -5.5562, -5.6579, -5.5527, -5.6064, -5.4932, -5.394, -5.4078, -5.507, -5.4741, -5.4038, -5.5173, -5.4353, -5.4529, -5.4434, -5.4635, -5.4254, -5.4569, -5.4451, -5.4377, -5.4738, -5.48, -5.4759, -5.4753, -5.5268, -5.3901, -5.5297, -5.5664, -5.601, -5.4524, -5.4912, -5.6131, -5.3796, -5.5143, -5.593, -5.5694, -5.7385, -5.5829, -5.5674, -5.4537, -5.6192, -5.482, -5.5371, -5.5388, -5.496, -5.4892, -5.4248, -5.5094, -5.4807, -5.5294, -5.4124, -5.4878, -5.4787, -5.4619, -5.5076, -5.3618, -5.4714, -5.4041, -5.3938, -5.4481, -5.4827, -5.4796, -5.4537, -5.4731, -5.5399, -5.4624, -5.5783, -5.517, -5.6323, -5.4786, -5.6875, -5.5078, -5.6328, -5.6135, -5.582, -5.5604, -5.5129, -5.7385, -5.5636, -5.6199, -5.5507, -5.6325, -5.5307, -5.6914, -5.4318, -5.4305, -5.4902, -5.5039, -5.497, -5.5456, -5.4886, -5.4997, -5.4921, -5.4414, -5.4621, -5.4558, -5.4645, -5.4941, -5.4445, -5.4723, -5.437, -5.4271, -5.4673, -5.4644, -5.4818, -5.495], \"loglift\": [20.0, 19.0, 18.0, 17.0, 16.0, 15.0, 14.0, 13.0, 12.0, 11.0, 10.0, 9.0, 8.0, 7.0, 6.0, 5.0, 4.0, 3.0, 2.0, 1.0, 0.0135, 0.0081, 0.008, 0.0079, 0.0078, 0.0076, 0.0076, 0.0074, 0.0072, 0.007, 0.0068, 0.0068, 0.0066, 0.0063, 0.0061, 0.006, 0.0059, 0.0059, 0.0058, 0.005, 0.0049, 0.0042, 0.0044, 0.0038, 0.9755, 0.8383, 0.8329, 0.8012, 0.7535, 0.7477, 0.7218, 0.704, 0.6931, 0.6824, 0.6711, 0.6673, 0.6426, 0.6369, 0.6038, 0.5777, 0.5732, 0.5605, 0.5491, 0.548, 0.5473, 0.4984, 0.4674, 0.4565, -1.2629, 0.4588, 0.2474, 0.1805, -0.472, -0.4889, -0.4627, 0.0197, 0.4084, 0.1469, -0.3499, -0.0303, -0.0671, 0.0091, -0.1289, -0.2054, -0.2802, -0.5368, -0.4756, 0.8406, 0.8269, 0.8207, 0.8167, 0.7344, 0.7084, 0.7041, 0.6772, 0.6617, 0.6471, 0.6428, 0.6407, 0.6399, 0.6316, 0.6233, 0.6056, 0.5954, 0.5915, 0.5889, 0.5737, 0.5533, 0.5189, 0.5625, 0.5433, 0.5447, 0.4799, 0.503, 0.4575, 0.4757, 0.4917, 0.1366, 0.369, -0.0499, 0.2029, -0.2502, 0.2243, -3.3717, 0.144, -0.4764, 0.7931, 0.7882, 0.7641, 0.7582, 0.7292, 0.7029, 0.6901, 0.6895, 0.6847, 0.661, 0.6322, 0.6263, 0.6166, 0.6159, 0.6119, 0.6081, 0.6008, 0.5952, 0.5738, 0.5734, 0.5733, 0.5646, 0.5401, 0.5119, 0.5297, 0.5344, 0.5243, 0.5113, 0.4159, 0.5298, 0.3283, 0.4306, -0.0518, -0.4346, 0.3067, 0.201, 0.2772, -3.5157, 0.7749, 0.7681, 0.746, 0.7363, 0.71, 0.7098, 0.6656, 0.6653, 0.6583, 0.6565, 0.6564, 0.6563, 0.6388, 0.6329, 0.6318, 0.617, 0.6102, 0.6062, 0.5991, 0.5954, 0.5936, 0.5915, 0.5787, 0.5888, 0.5162, 0.5725, 0.5487, 0.5187, 0.3985, 0.3674, 0.4993, 0.3307, 0.4152, 0.2131, -0.1086, -0.0047, 0.8277, 0.784, 0.7595, 0.7579, 0.7291, 0.7277, 0.7191, 0.7145, 0.6897, 0.6575, 0.6466, 0.6406, 0.6384, 0.6339, 0.6283, 0.6244, 0.6136, 0.6111, 0.6069, 0.5848, 0.5813, 0.5686, 0.5435, 0.4655, 0.1479, 0.4112, 0.2682, 0.0646, 0.0873, 0.3665, -0.429, -0.279, -0.1477, -0.2838, 0.0331, 0.1114, 0.8247, 0.735, 0.7211, 0.6778, 0.6602, 0.6527, 0.643, 0.6197, 0.6174, 0.6163, 0.616, 0.6122, 0.6035, 0.6025, 0.5885, 0.5838, 0.5837, 0.5786, 0.5753, 0.5743, 0.5561, 0.5523, 0.5389, 0.4678, 0.5136, 0.4785, 0.4967, 0.5161, 0.4011, 0.445, 0.3, 0.0358, 0.2618, 0.3617, -0.2312, -0.6336, 0.7894, 0.7518, 0.7371, 0.7119, 0.7109, 0.7081, 0.6865, 0.6859, 0.6672, 0.6589, 0.6445, 0.6441, 0.6433, 0.627, 0.6268, 0.6223, 0.6214, 0.6086, 0.6068, 0.6054, 0.6005, 0.5963, 0.5964, 0.58, 0.5274, 0.5586, 0.4227, 0.4521, 0.422, 0.4473, 0.2485, 0.3529, 0.2516, 0.0705, 0.3543, 0.3687, 0.2439, 0.0628, 0.8189, 0.7373, 0.7341, 0.6894, 0.683, 0.6654, 0.6641, 0.6619, 0.6121, 0.6066, 0.5854, 0.584, 0.5791, 0.5784, 0.5776, 0.5715, 0.5714, 0.5681, 0.567, 0.5646, 0.5575, 0.5537, 0.5287, 0.5476, 0.5133, 0.5465, 0.3715, 0.4612, 0.4294, 0.3844, 0.4919, 0.1052, 0.3567, 0.1004, 0.0345, 0.0564, 0.3237, 0.2838, -0.2926, 0.0085, 0.7351, 0.693, 0.6775, 0.6513, 0.647, 0.6423, 0.63, 0.6214, 0.6171, 0.617, 0.6086, 0.6078, 0.6076, 0.6072, 0.607, 0.5986, 0.5971, 0.59, 0.5727, 0.5724, 0.5641, 0.5386, 0.5477, 0.5496, 0.5397, 0.5584, 0.5041, 0.4998, 0.4836, 0.4074, 0.4335, 0.3918, 0.3935, 0.4519, 0.307, 0.3488, 0.075, -0.0258, -0.0348, -0.2918, 0.0227, 0.2097]}, \"token.table\": {\"Topic\": [1, 1, 1, 1, 1, 1, 1, 1, 1, 1, 1, 1, 1, 1, 1, 1, 1, 1, 1, 1, 1, 1, 1, 1, 1, 1, 1, 1, 1, 1, 1, 1, 1, 1, 1, 1, 1, 1, 1, 1, 1, 1, 1, 1, 1, 1, 1, 1, 1, 1, 1, 1, 1, 1, 1, 1, 1, 1, 1, 1, 1, 1, 1, 1, 1, 1, 1, 1, 1, 1, 1, 1, 1, 1, 1, 1, 1, 1, 1, 1, 1, 1, 1, 1, 1, 1, 1, 1, 1, 1, 1, 1, 1, 1, 1, 1, 1, 1, 1, 1, 1, 1, 1, 1, 1, 1, 1, 1, 1, 1, 1, 1, 1, 1, 1, 1, 1, 1, 1, 1, 1, 1, 1, 1, 1, 1, 1, 1, 1, 2, 1, 1, 1, 1, 1, 1, 1, 1, 1, 1, 1, 1, 1, 1, 1, 1, 1, 1, 1, 1, 1, 1, 1, 1, 1, 1, 1, 1, 1, 1, 1, 1, 1, 1, 1, 1, 1, 1, 1, 1, 1, 1, 1, 1, 1, 1, 1, 1, 1, 1, 1, 1, 1, 1, 1, 1], \"Freq\": [1.0695647398383599, 1.0044754540955891, 0.8816729988638973, 0.9489648229138478, 1.0353877891194752, 1.0673915349353815, 0.9944975660572788, 0.8567525588415051, 1.0196624446411071, 0.9946628507724105, 1.0596225666309096, 0.8309669366651365, 0.9274697247420352, 0.9192606332138682, 0.9311924287721253, 1.011070638598731, 0.8957872289129578, 0.9429140673358993, 1.0037920764719013, 1.0533308643034638, 0.950745490270065, 0.9025062905838978, 1.148425899606733, 0.9306067337204423, 1.0097196258567405, 0.9601558493373807, 0.9029884481822142, 1.0975462399470632, 0.9208233585753062, 1.091742531966985, 1.0481349413886019, 0.8950750760916155, 1.114356159782599, 0.9236625654206613, 0.9782257218970034, 0.8630588915971129, 0.7776221849224229, 1.0110038734960503, 1.0766878469373593, 1.0283363969924266, 0.978674973911615, 1.0281020380983708, 0.932671930332985, 1.084141585903454, 1.0113284588430096, 0.7811783829957902, 0.8899762967779131, 0.9735656612828387, 0.9470881862518784, 1.0855682416583374, 0.8785588275767791, 0.9706733098509666, 1.108167591552722, 1.0198068985409408, 1.06315515472854, 1.132540804764879, 1.0175740089338987, 1.0449736543081338, 0.96912228325337, 0.995497447646596, 0.9946162362221768, 0.8991368065576414, 0.9817361744932238, 0.9787767790443586, 0.9695011845270062, 0.8757210624044641, 0.8553210284243711, 1.0415907145994903, 1.0183032543490793, 0.8954210516515019, 0.9483422533756396, 1.001974373787742, 1.0208652970294565, 1.1019133848981635, 1.0544747480279595, 1.083390395423223, 0.8824823206517107, 0.9174204145747752, 1.0131622469564496, 0.8857553921469751, 1.0163924112529175, 1.0497592322162936, 0.9656712797408777, 1.0355464382600439, 0.9560599809582209, 0.860970407972021, 0.8748642639855577, 1.0357993119249265, 0.8078822145895386, 0.9833266092835038, 1.0240874173300287, 1.0502047033543944, 0.934887214870011, 1.0365235520052307, 0.9227487642247699, 0.9924348604998257, 1.019650771021466, 0.9450307662993138, 1.0226045789975995, 1.0635440914097947, 0.9541009289436786, 1.0205111673679363, 1.0517845686811818, 1.0099589414496264, 1.0043866595937714, 1.061163778381002, 1.043866370453736, 0.9904651592844651, 1.1392745929277472, 1.0311485494976815, 0.8829466184237514, 1.0979320799478154, 0.9332504988009032, 0.9204468971974207, 1.1176951739137764, 0.9124260076687145, 1.0729169232749536, 0.9789322973027085, 0.9701515690614326, 0.9922460337778336, 1.0360643181532725, 0.9020468938385213, 0.9046567799233811, 0.9951678238918436, 1.0002834441574304, 1.1613609621818795, 0.974843670753866, 0.8957252063927109, 0.9970718747294632, 0.005035716539037693, 1.0436991179094974, 0.9516940471934441, 0.9834178215162961, 0.9476295465132122, 0.9708414116119698, 0.9366390866361757, 1.1108251945452035, 1.0461919041521026, 0.9225269814323291, 0.8753547929068999, 0.9842143150129943, 0.9086055776150901, 0.960225429984617, 0.9489838489730421, 0.9338733152881334, 1.0507562755535675, 0.8694628786648766, 0.9703367632154334, 0.8435345002263456, 0.8729988311254726, 1.0757762172773793, 1.007176894973344, 0.8420154795637868, 1.0051779181504492, 0.9850501512980924, 0.9248748375437862, 0.9125224730128912, 0.8877818791324162, 0.9892445416028509, 0.9161499270653298, 0.9263879791953026, 0.9725089710347449, 1.0303608894777252, 1.028427727043426, 0.9960406851409656, 1.050520477989846, 1.0086409239239065, 0.9256606779469111, 0.8983087052184723, 1.0166290053521092, 0.9811035621933422, 0.9151522992923384, 1.0686698882866492, 0.9744833894860163, 0.9010774174055162, 0.9283693691716766, 1.0180455863059603, 0.8772350205429276, 1.0842213497102549, 0.858370757184758, 0.9786506560758312, 0.9361220663153309, 1.0417833391235383, 0.8768581070868924, 1.0034346011355633, 0.8887479150350337], \"Term\": [\"24\", \"achieve\", \"act\", \"action\", \"actor\", \"actress\", \"actually\", \"air\", \"amazing\", \"american\", \"apparently\", \"appealing\", \"aside\", \"audience\", \"available\", \"away\", \"bad\", \"base\", \"basketball\", \"battle\", \"begin\", \"big\", \"bit\", \"book\", \"boy\", \"character\", \"child\", \"choose\", \"collins\", \"combine\", \"come\", \"confused\", \"convincing\", \"correct\", \"countless\", \"credit\", \"curious\", \"day\", \"dennis\", \"deserve\", \"devil\", \"direction\", \"director\", \"eat\", \"ed\", \"effort\", \"emotion\", \"emotional\", \"end\", \"ending\", \"engineer\", \"entertainment\", \"especially\", \"extra\", \"face\", \"fair\", \"fall\", \"family\", \"father\", \"filmmake\", \"finally\", \"follow\", \"foreign\", \"form\", \"friend\", \"fun\", \"genuine\", \"girl\", \"good\", \"happen\", \"help\", \"hinge\", \"hope\", \"hour\", \"humor\", \"husband\", \"idea\", \"include\", \"john\", \"journey\", \"just\", \"keanu\", \"kick\", \"know\", \"lace\", \"leave\", \"lie\", \"life\", \"lightweight\", \"like\", \"line\", \"long\", \"look\", \"lot\", \"love\", \"lush\", \"man\", \"mans\", \"market\", \"mass\", \"maybe\", \"memorable\", \"mind\", \"minute\", \"mix\", \"money\", \"mother\", \"motivation\", \"murky\", \"music\", \"neighbor\", \"new\", \"nice\", \"notable\", \"occur\", \"original\", \"oscar\", \"pay\", \"people\", \"pertain\", \"peter\", \"picture\", \"pity\", \"place\", \"play\", \"plot\", \"pretend\", \"probably\", \"pron\", \"pron\", \"public\", \"quick\", \"real\", \"really\", \"reason\", \"red\", \"reeve\", \"remain\", \"right\", \"run\", \"ryan\", \"save\", \"say\", \"scene\", \"screenwriter\", \"script\", \"search\", \"sign\", \"simply\", \"situation\", \"son\", \"sound\", \"spy\", \"star\", \"story\", \"strong\", \"stumble\", \"subtle\", \"sword\", \"taut\", \"team\", \"tell\", \"theme\", \"thing\", \"think\", \"time\", \"town\", \"trailer\", \"truly\", \"turn\", \"ultimately\", \"unlike\", \"walk\", \"war\", \"watch\", \"way\", \"weight\", \"whine\", \"woman\", \"wonder\", \"work\", \"worth\", \"write\", \"wrong\", \"year\", \"young\"]}, \"R\": 20, \"lambda.step\": 0.01, \"plot.opts\": {\"xlab\": \"PC1\", \"ylab\": \"PC2\"}, \"topic.order\": [10, 4, 7, 9, 5, 8, 3, 1, 2, 6]};\n",
       "\n",
       "function LDAvis_load_lib(url, callback){\n",
       "  var s = document.createElement('script');\n",
       "  s.src = url;\n",
       "  s.async = true;\n",
       "  s.onreadystatechange = s.onload = callback;\n",
       "  s.onerror = function(){console.warn(\"failed to load library \" + url);};\n",
       "  document.getElementsByTagName(\"head\")[0].appendChild(s);\n",
       "}\n",
       "\n",
       "if(typeof(LDAvis) !== \"undefined\"){\n",
       "   // already loaded: just create the visualization\n",
       "   !function(LDAvis){\n",
       "       new LDAvis(\"#\" + \"ldavis_el4268748505386406065181663\", ldavis_el4268748505386406065181663_data);\n",
       "   }(LDAvis);\n",
       "}else if(typeof define === \"function\" && define.amd){\n",
       "   // require.js is available: use it to load d3/LDAvis\n",
       "   require.config({paths: {d3: \"https://cdnjs.cloudflare.com/ajax/libs/d3/3.5.5/d3.min\"}});\n",
       "   require([\"d3\"], function(d3){\n",
       "      window.d3 = d3;\n",
       "      LDAvis_load_lib(\"https://cdn.rawgit.com/bmabey/pyLDAvis/files/ldavis.v1.0.0.js\", function(){\n",
       "        new LDAvis(\"#\" + \"ldavis_el4268748505386406065181663\", ldavis_el4268748505386406065181663_data);\n",
       "      });\n",
       "    });\n",
       "}else{\n",
       "    // require.js not available: dynamically load d3 & LDAvis\n",
       "    LDAvis_load_lib(\"https://cdnjs.cloudflare.com/ajax/libs/d3/3.5.5/d3.min.js\", function(){\n",
       "         LDAvis_load_lib(\"https://cdn.rawgit.com/bmabey/pyLDAvis/files/ldavis.v1.0.0.js\", function(){\n",
       "                 new LDAvis(\"#\" + \"ldavis_el4268748505386406065181663\", ldavis_el4268748505386406065181663_data);\n",
       "            })\n",
       "         });\n",
       "}\n",
       "</script>"
      ],
      "text/plain": [
       "PreparedData(topic_coordinates=              x         y  topics  cluster       Freq\n",
       "topic                                                \n",
       "9     -0.053600 -0.000004       1        1  98.361609\n",
       "3     -0.014978  0.000114       2        1   1.003222\n",
       "6      0.006916 -0.001500       3        1   0.079396\n",
       "8      0.007945 -0.000266       4        1   0.079396\n",
       "4      0.009267 -0.000163       5        1   0.079396\n",
       "7      0.008912  0.000302       6        1   0.079396\n",
       "2      0.008570  0.000728       7        1   0.079396\n",
       "0      0.009699 -0.000254       8        1   0.079396\n",
       "1      0.008651  0.000792       9        1   0.079396\n",
       "5      0.008619  0.000251      10        1   0.079396, topic_info=          Term        Freq       Total Category  logprob  loglift\n",
       "191       pron  198.000000  198.000000  Default  20.0000  20.0000\n",
       "139       like   14.000000   14.000000  Default  19.0000  19.0000\n",
       "97        good   13.000000   13.000000  Default  18.0000  18.0000\n",
       "34   character   12.000000   12.000000  Default  17.0000  17.0000\n",
       "70         end   10.000000   10.000000  Default  16.0000  16.0000\n",
       "..         ...         ...         ...      ...      ...      ...\n",
       "92      friend    0.004789    6.188750  Topic10  -5.4271  -0.0258\n",
       "184       play    0.004600    5.998300  Topic10  -5.4673  -0.0348\n",
       "243      thing    0.004613    7.778865  Topic10  -5.4644  -0.2918\n",
       "18         bad    0.004533    5.581683  Topic10  -5.4818   0.0227\n",
       "206        run    0.004474    4.569576  Topic10  -5.4950   0.2097\n",
       "\n",
       "[392 rows x 6 columns], token_table=      Topic      Freq     Term\n",
       "term                          \n",
       "0         1  1.069565       24\n",
       "2         1  1.004475  achieve\n",
       "3         1  0.881673      act\n",
       "4         1  0.948965   action\n",
       "5         1  1.035388    actor\n",
       "...     ...       ...      ...\n",
       "270       1  0.936122    worth\n",
       "271       1  1.041783    write\n",
       "272       1  0.876858    wrong\n",
       "273       1  1.003435     year\n",
       "274       1  0.888748    young\n",
       "\n",
       "[186 rows x 3 columns], R=20, lambda_step=0.01, plot_opts={'xlab': 'PC1', 'ylab': 'PC2'}, topic_order=[10, 4, 7, 9, 5, 8, 3, 1, 2, 6])"
      ]
     },
     "execution_count": 8,
     "metadata": {},
     "output_type": "execute_result"
    }
   ],
   "source": [
    "## YOUR CODE HERE\n",
    "pyLDAvis.sklearn.prepare(lda_model, tf, tf_vectorizer, R=20)"
   ]
  },
  {
   "cell_type": "markdown",
   "metadata": {},
   "source": [
    "## QUESTION 5\n",
    "\n",
    "Try different numbers of clusters until there is decent separation in the visualization"
   ]
  },
  {
   "cell_type": "code",
   "execution_count": 12,
   "metadata": {},
   "outputs": [
    {
     "name": "stderr",
     "output_type": "stream",
     "text": [
      "/usr/local/lib/python3.8/site-packages/ipykernel/ipkernel.py:287: DeprecationWarning: `should_run_async` will not call `transform_cell` automatically in the future. Please pass the result to `transformed_cell` argument and any exception that happen during thetransform in `preprocessing_exc_tuple` in IPython 7.17 and above.\n",
      "  and should_run_async(code)\n"
     ]
    },
    {
     "data": {
      "text/html": [
       "\n",
       "<link rel=\"stylesheet\" type=\"text/css\" href=\"https://cdn.rawgit.com/bmabey/pyLDAvis/files/ldavis.v1.0.0.css\">\n",
       "\n",
       "\n",
       "<div id=\"ldavis_el4268748495200805891692419\"></div>\n",
       "<script type=\"text/javascript\">\n",
       "\n",
       "var ldavis_el4268748495200805891692419_data = {\"mdsDat\": {\"x\": [0.05350381608023177, -0.002245617014537134, -0.008546167593010232, -0.010834668185703075, -0.011526560866685857, -0.010194775928163846, -0.010156026492131622], \"y\": [6.357087105064552e-06, -0.00027358598557781957, 0.0005442189696684648, -0.001076703797553758, -0.00014133088508886158, 0.0010587165005100931, -0.00011767188906306243], \"topics\": [1, 2, 3, 4, 5, 6, 7], \"cluster\": [1, 1, 1, 1, 1, 1, 1], \"Freq\": [99.31786567333954, 0.11371604917076512, 0.11368612885495862, 0.11368417469579883, 0.11368301208389106, 0.11368288227268358, 0.11368207958234786]}, \"tinfo\": {\"Term\": [\"pron\", \"like\", \"good\", \"character\", \"end\", \"scene\", \"just\", \"action\", \"life\", \"work\", \"thing\", \"man\", \"people\", \"day\", \"turn\", \"come\", \"know\", \"say\", \"director\", \"think\", \"pron\", \"like\", \"good\", \"character\", \"end\", \"just\", \"scene\", \"action\", \"life\", \"man\", \"know\", \"work\", \"thing\", \"people\", \"day\", \"come\", \"right\", \"world\", \"director\", \"want\", \"turn\", \"say\", \"place\", \"finally\", \"lace\", \"correct\", \"mass\", \"war\", \"emotion\", \"ultimately\", \"idea\", \"available\", \"lush\", \"combine\", \"genuine\", \"filmmake\", \"dramatic\", \"form\", \"subtle\", \"mans\", \"stunning\", \"plot\", \"cost\", \"red\", \"line\", \"battle\", \"tell\", \"private\", \"year\", \"save\", \"keanu\", \"ryan\", \"pron\", \"american\", \"say\", \"follow\", \"character\", \"come\", \"lush\", \"search\", \"wrong\", \"simply\", \"trailer\", \"correct\", \"base\", \"subtle\", \"place\", \"lie\", \"idea\", \"genuine\", \"notable\", \"filmmake\", \"unlike\", \"pity\", \"stunning\", \"hinge\", \"mass\", \"occur\", \"murky\", \"stumble\", \"woman\", \"taut\", \"nice\", \"love\", \"peter\", \"john\", \"red\", \"think\", \"ryan\", \"happen\", \"pron\", \"correct\", \"idea\", \"lush\", \"genuine\", \"place\", \"subtle\", \"family\", \"quick\", \"mix\", \"lot\", \"act\", \"combine\", \"lie\", \"mr\", \"bit\", \"guy\", \"lace\", \"advice\", \"pretend\", \"direction\", \"fall\", \"truly\", \"kick\", \"sign\", \"actually\", \"write\", \"leave\", \"entertainment\", \"worth\", \"girl\", \"credit\", \"script\", \"actor\", \"new\", \"aside\", \"correct\", \"place\", \"24\", \"achieve\", \"genuine\", \"family\", \"emotional\", \"fair\", \"whine\", \"available\", \"journey\", \"lie\", \"stunning\", \"hinge\", \"wrong\", \"lace\", \"trailer\", \"amazing\", \"sword\", \"tell\", \"countless\", \"quick\", \"direction\", \"memorable\", \"basketball\", \"away\", \"money\", \"son\", \"ending\", \"motivation\", \"follow\", \"young\", \"team\", \"lie\", \"lush\", \"correct\", \"filmmake\", \"wrong\", \"occur\", \"aside\", \"oscar\", \"hinge\", \"screenwriter\", \"pity\", \"place\", \"mr\", \"emotional\", \"quick\", \"reason\", \"book\", \"stunning\", \"light\", \"act\", \"bit\", \"24\", \"theme\", \"spy\", \"air\", \"collins\", \"really\", \"town\", \"motivation\", \"actor\", \"probably\", \"think\", \"bad\", \"father\", \"turn\", \"time\", \"way\", \"action\", \"genuine\", \"place\", \"filmmake\", \"correct\", \"lush\", \"occur\", \"unlike\", \"mother\", \"oscar\", \"idea\", \"setting\", \"act\", \"available\", \"theme\", \"form\", \"quick\", \"lace\", \"taut\", \"countless\", \"book\", \"plot\", \"pity\", \"away\", \"engineer\", \"convincing\", \"basketball\", \"memorable\", \"minute\", \"fight\", \"apparently\", \"real\", \"include\", \"big\", \"involve\", \"friend\", \"fun\", \"play\", \"thing\", \"bad\", \"leave\", \"run\"], \"Freq\": [207.0, 15.0, 14.0, 12.0, 11.0, 10.0, 9.0, 9.0, 8.0, 8.0, 8.0, 8.0, 7.0, 7.0, 7.0, 7.0, 7.0, 7.0, 7.0, 6.0, 207.02228272677687, 15.341275748461666, 14.67138258151736, 12.956667286126226, 10.969547017016374, 9.955403813869319, 10.01086268711207, 9.551796563536596, 8.779815399503262, 8.092750411153796, 7.577430982522078, 8.310208189222516, 8.106748133758959, 7.665606612163733, 7.5368730978994645, 7.471318990538829, 6.948020531784557, 6.978382805780855, 7.053514812195989, 6.401006888448967, 7.32204155725114, 7.110527526321954, 0.006329874908071347, 0.007523980462290027, 0.006780552842099983, 0.0063091056566907, 0.007068936213694644, 0.012431188834415978, 0.007391098717380666, 0.006627169604356041, 0.006553008218198297, 0.006631587499048959, 0.005969915197187813, 0.006210145111071784, 0.005737855144134677, 0.005843488684807712, 0.0063704901799772505, 0.006274356444824585, 0.006111436558997613, 0.005986058283158225, 0.005962680269780436, 0.006356611085321845, 0.006822127846652618, 0.010156323547266281, 0.010953374714680511, 0.007124227723606263, 0.006533417873063693, 0.006720132159207339, 0.008077580243952335, 0.007012692377554458, 0.0069179566360315645, 0.007471406458410219, 0.015895035452399894, 0.00747840898663585, 0.007382261941432943, 0.006891041340833, 0.007267328987394842, 0.00683816340183189, 0.006213096046710168, 0.006923425315048689, 0.006638711267412553, 0.00654426219876157, 0.006542088218270584, 0.005724180990380548, 0.006586344657725981, 0.006361889912642928, 0.005372440377014789, 0.00612462368386919, 0.006257140228306557, 0.005607111221095713, 0.0065489853571455495, 0.005749386269104769, 0.006226651160693804, 0.006511219715434696, 0.0058887129852558924, 0.006638316795994887, 0.005925615605097239, 0.0059147209447977175, 0.00675994088652621, 0.006431835024907065, 0.006701588141907252, 0.006210157690001962, 0.00669874258425034, 0.006620214548512281, 0.006552894994515898, 0.0065576125850600265, 0.006811278188163261, 0.007148923267334834, 0.006711779788442934, 0.006534917962959067, 0.006903241836145636, 0.006532088787163203, 0.006976382702213821, 0.0064520611425009445, 0.0060173885073246045, 0.005634203270284938, 0.006425781689375535, 0.00662248247999565, 0.006627035309849329, 0.006533221184610127, 0.006676898807584083, 0.0066801520667471494, 0.0060170749508996774, 0.00596616999566848, 0.005978830602135762, 0.006390548231175149, 0.006220797401208435, 0.005729148814005503, 0.006275461904056842, 0.0062839880059244796, 0.007384830222546806, 0.006506275718084283, 0.006755003108082875, 0.0063528245461046485, 0.006243334518512653, 0.006793361931097448, 0.00659699333811027, 0.0066393476766038, 0.006747978905137793, 0.0067450112578934605, 0.006737025830568047, 0.00649757178374875, 0.006776631260075621, 0.006543550478132653, 0.006997482458648824, 0.006976196228855009, 0.005914908602344879, 0.005603030000958811, 0.006666320264769963, 0.006728945874682965, 0.005833799336233589, 0.006635798867854274, 0.00640599769334056, 0.0062840213880710925, 0.00706545138916326, 0.006527862470154945, 0.006969701253439595, 0.006091762547106162, 0.006110648530124936, 0.00691010583111919, 0.006137987604792355, 0.0057863878763429535, 0.006114659952563196, 0.0065048962185541865, 0.006647446889916916, 0.0066395698084794385, 0.006319831201851849, 0.006255993993224892, 0.0067289519248983605, 0.0067827387970259495, 0.00634981229690721, 0.006490297292314262, 0.006849258954573946, 0.00659670042117028, 0.006717864602306926, 0.006530006527478941, 0.006766658533612281, 0.00651631976858851, 0.006520295873778486, 0.007178758279159407, 0.006662143876145727, 0.005981910513371032, 0.006283263942601485, 0.006495066309024621, 0.006433231209011804, 0.006470131650913547, 0.006491614191942373, 0.0070844896332778184, 0.006313282145793246, 0.006653514314936351, 0.005243742802556754, 0.0059787136727091, 0.006025765464067364, 0.006175575520298842, 0.006111944295538401, 0.0063958874491560945, 0.005795422418989576, 0.006002651498901197, 0.006309071654238828, 0.006172767598459285, 0.005996549731734667, 0.006411812406259085, 0.006846124784924626, 0.006306741141505116, 0.006425351604006502, 0.006931198997969297, 0.006599906707172028, 0.006565371774178778, 0.007317434358929724, 0.00698741943585303, 0.007075665227466474, 0.006690279559244439, 0.006465780274533024, 0.0066773322653400575, 0.006528194947773564, 0.006485762049790534, 0.0064524073402726185, 0.006809947271213117, 0.006278075431048141, 0.0064940589444777725, 0.0060027970614756655, 0.005973873795161836, 0.006352909940266204, 0.006377557778747274, 0.006252866338718645, 0.006290395582727965, 0.006032083399255314, 0.006047385147809669, 0.006360552663039948, 0.006109265964045944, 0.0065992895666419, 0.006079219875078777, 0.006127317707658694, 0.0055844711441146964, 0.006420772875306686, 0.006180078609237269, 0.006334243393665083, 0.00611340965220506, 0.0062483443820196514, 0.0067631701717913864, 0.006801024028291459, 0.006395964195968987, 0.006310151455817235, 0.006585177802169897, 0.006654129872377196, 0.006367113269467314, 0.006600990942384557, 0.006535133121229638, 0.006728442359843393, 0.00677978755119383, 0.006395343724336478, 0.006833111507055848, 0.006430584753627789, 0.006587418150750767, 0.006596647935253699, 0.006486239717828507, 0.006408145895216863, 0.006401733360235604], \"Total\": [207.0, 15.0, 14.0, 12.0, 11.0, 10.0, 9.0, 9.0, 8.0, 8.0, 8.0, 8.0, 7.0, 7.0, 7.0, 7.0, 7.0, 7.0, 7.0, 6.0, 207.0673632147453, 15.374261097804661, 14.705957774886807, 12.992727185774378, 11.004642010658761, 9.988570230811497, 10.044993398643099, 9.585870831707675, 8.812489573323715, 8.126343347670627, 7.60996180269766, 8.346257813459653, 8.142356312789488, 7.699860206130727, 7.5712488709133146, 7.505647144739909, 6.980490832514063, 7.0111569754382925, 7.087706017190341, 6.432544888313771, 7.358174527519393, 7.146841668530636, 2.5087728994526652, 3.061409538204633, 2.789409898400105, 2.6102176356588793, 2.9444768153249528, 5.398092861227423, 3.2523295772545633, 2.928226433635346, 2.9261015954058998, 3.032359783083267, 2.7401547748550104, 2.886438165071284, 2.6710944998390795, 2.7782228577857797, 3.055880347466809, 3.0245971784389543, 2.948100105055082, 2.891134862962759, 2.887927100615957, 3.0865764996957417, 3.3128681967923606, 4.9788608561581436, 5.780399580101681, 3.5338916912628657, 3.3028388768119132, 3.698112007961759, 6.756172078194451, 4.33380342018217, 4.209962700817306, 5.617430133885551, 207.0673632147453, 6.478901099578408, 7.146841668530636, 5.85211750472315, 12.992727185774378, 7.505647144739909, 2.7401547748550104, 3.0627668851742995, 2.9531073900853784, 2.938806886298502, 2.9536057773909055, 2.6102176356588793, 3.027562763073024, 2.948100105055082, 2.5087728994526652, 2.862249581703852, 2.9261015954058998, 2.6710944998390795, 3.128774034895096, 2.7782228577857797, 3.024040134391409, 3.17127546524241, 2.887927100615957, 3.297265890569941, 2.9444768153249528, 2.940639011548289, 3.4719673497066093, 3.285918270695683, 3.590216850048224, 3.209779079982572, 3.7521042419376314, 3.7127251782914343, 3.7472328088381044, 4.047719721154094, 4.9788608561581436, 6.802430728286371, 5.617430133885551, 5.226682552101265, 207.0673632147453, 2.6102176356588793, 2.9261015954058998, 2.7401547748550104, 2.6710944998390795, 2.5087728994526652, 2.948100105055082, 3.0445879922310737, 3.0506248802626383, 3.0373182643466308, 3.1240493554939697, 3.1526537883533328, 2.886438165071284, 2.862249581703852, 2.8893136204428362, 3.0919945574310295, 3.0098684355778524, 2.789409898400105, 3.0557038619443335, 3.0621721165568725, 3.604537904059255, 3.21045878462975, 3.381849944836274, 3.157161876061316, 3.0765307867830347, 3.8045296362366106, 3.6451053043824655, 3.818641203767811, 4.256916201658961, 4.567622141135002, 4.6821002039618005, 3.8545138882452323, 6.541605420221222, 5.830021059110841, 2.926352743992454, 2.9695123067324247, 2.6102176356588793, 2.5087728994526652, 2.999021585036245, 3.076324323096027, 2.6710944998390795, 3.0445879922310737, 2.9521834492470993, 2.8961706356957637, 3.277755193691017, 3.032359783083267, 3.2508563392304044, 2.862249581703852, 2.887927100615957, 3.297265890569941, 2.9531073900853784, 2.789409898400105, 2.9536057773909055, 3.1518383085553845, 3.2514423221608157, 3.3028388768119132, 3.1006696181660707, 3.0506248802626383, 3.604537904059255, 3.6829518274824258, 3.2407338569476627, 3.5383945889813413, 4.264090193185853, 3.8876444865600415, 4.403010284132781, 3.803714432771998, 5.85211750472315, 4.356521719417836, 6.037880421905375, 2.862249581703852, 2.7401547748550104, 2.6102176356588793, 2.7782228577857797, 2.9531073900853784, 2.940639011548289, 2.9695123067324247, 3.0202160894529637, 3.297265890569941, 2.978068608149733, 3.17127546524241, 2.5087728994526652, 2.8893136204428362, 2.9521834492470993, 3.0506248802626383, 3.0279083197522807, 3.186108840473215, 2.887927100615957, 2.9913934327729663, 3.1526537883533328, 3.0919945574310295, 2.999021585036245, 3.2816130322102475, 3.621433677732503, 3.2560911354307507, 3.4033833123941712, 4.365336808522407, 3.785739978960664, 3.803714432771998, 5.830021059110841, 5.820020455640844, 6.802430728286371, 5.397334413611706, 4.1687648095355945, 7.358174527519393, 5.9329994332259695, 5.176150975149386, 9.585870831707675, 2.6710944998390795, 2.5087728994526652, 2.7782228577857797, 2.6102176356588793, 2.7401547748550104, 2.940639011548289, 3.024040134391409, 2.999504127399023, 3.0202160894529637, 2.9261015954058998, 2.951557667775398, 3.1526537883533328, 3.032359783083267, 3.2816130322102475, 3.0245971784389543, 3.0506248802626383, 2.789409898400105, 3.209779079982572, 3.1006696181660707, 3.186108840473215, 3.0865764996957417, 3.17127546524241, 3.5383945889813413, 3.6111911154429146, 3.28310266528326, 3.2407338569476627, 3.6829518274824258, 3.8339768462392936, 3.4092907588097954, 3.8819676065370676, 3.7561464892222305, 4.371923569424513, 5.503925123540965, 3.535636513176775, 6.703999909501773, 3.777974922980146, 5.859840538917673, 8.142356312789488, 5.397334413611706, 3.818641203767811, 4.42681874300831], \"Category\": [\"Default\", \"Default\", \"Default\", \"Default\", \"Default\", \"Default\", \"Default\", \"Default\", \"Default\", \"Default\", \"Default\", \"Default\", \"Default\", \"Default\", \"Default\", \"Default\", \"Default\", \"Default\", \"Default\", \"Default\", \"Topic1\", \"Topic1\", \"Topic1\", \"Topic1\", \"Topic1\", \"Topic1\", \"Topic1\", \"Topic1\", \"Topic1\", \"Topic1\", \"Topic1\", \"Topic1\", \"Topic1\", \"Topic1\", \"Topic1\", \"Topic1\", \"Topic1\", \"Topic1\", \"Topic1\", \"Topic1\", \"Topic1\", \"Topic1\", \"Topic2\", \"Topic2\", \"Topic2\", \"Topic2\", \"Topic2\", \"Topic2\", \"Topic2\", \"Topic2\", \"Topic2\", \"Topic2\", \"Topic2\", \"Topic2\", \"Topic2\", \"Topic2\", \"Topic2\", \"Topic2\", \"Topic2\", \"Topic2\", \"Topic2\", \"Topic2\", \"Topic2\", \"Topic2\", \"Topic2\", \"Topic2\", \"Topic2\", \"Topic2\", \"Topic2\", \"Topic2\", \"Topic2\", \"Topic2\", \"Topic2\", \"Topic2\", \"Topic2\", \"Topic2\", \"Topic2\", \"Topic2\", \"Topic3\", \"Topic3\", \"Topic3\", \"Topic3\", \"Topic3\", \"Topic3\", \"Topic3\", \"Topic3\", \"Topic3\", \"Topic3\", \"Topic3\", \"Topic3\", \"Topic3\", \"Topic3\", \"Topic3\", \"Topic3\", \"Topic3\", \"Topic3\", \"Topic3\", \"Topic3\", \"Topic3\", \"Topic3\", \"Topic3\", \"Topic3\", \"Topic3\", \"Topic3\", \"Topic3\", \"Topic3\", \"Topic3\", \"Topic3\", \"Topic3\", \"Topic3\", \"Topic3\", \"Topic4\", \"Topic4\", \"Topic4\", \"Topic4\", \"Topic4\", \"Topic4\", \"Topic4\", \"Topic4\", \"Topic4\", \"Topic4\", \"Topic4\", \"Topic4\", \"Topic4\", \"Topic4\", \"Topic4\", \"Topic4\", \"Topic4\", \"Topic4\", \"Topic4\", \"Topic4\", \"Topic4\", \"Topic4\", \"Topic4\", \"Topic4\", \"Topic4\", \"Topic4\", \"Topic4\", \"Topic4\", \"Topic4\", \"Topic4\", \"Topic4\", \"Topic4\", \"Topic4\", \"Topic5\", \"Topic5\", \"Topic5\", \"Topic5\", \"Topic5\", \"Topic5\", \"Topic5\", \"Topic5\", \"Topic5\", \"Topic5\", \"Topic5\", \"Topic5\", \"Topic5\", \"Topic5\", \"Topic5\", \"Topic5\", \"Topic5\", \"Topic5\", \"Topic5\", \"Topic5\", \"Topic5\", \"Topic5\", \"Topic5\", \"Topic5\", \"Topic5\", \"Topic5\", \"Topic5\", \"Topic5\", \"Topic5\", \"Topic5\", \"Topic5\", \"Topic5\", \"Topic5\", \"Topic5\", \"Topic5\", \"Topic6\", \"Topic6\", \"Topic6\", \"Topic6\", \"Topic6\", \"Topic6\", \"Topic6\", \"Topic6\", \"Topic6\", \"Topic6\", \"Topic6\", \"Topic6\", \"Topic6\", \"Topic6\", \"Topic6\", \"Topic6\", \"Topic6\", \"Topic6\", \"Topic6\", \"Topic6\", \"Topic6\", \"Topic6\", \"Topic6\", \"Topic6\", \"Topic6\", \"Topic6\", \"Topic6\", \"Topic6\", \"Topic6\", \"Topic6\", \"Topic6\", \"Topic6\", \"Topic6\", \"Topic6\", \"Topic6\", \"Topic6\", \"Topic6\", \"Topic6\", \"Topic7\", \"Topic7\", \"Topic7\", \"Topic7\", \"Topic7\", \"Topic7\", \"Topic7\", \"Topic7\", \"Topic7\", \"Topic7\", \"Topic7\", \"Topic7\", \"Topic7\", \"Topic7\", \"Topic7\", \"Topic7\", \"Topic7\", \"Topic7\", \"Topic7\", \"Topic7\", \"Topic7\", \"Topic7\", \"Topic7\", \"Topic7\", \"Topic7\", \"Topic7\", \"Topic7\", \"Topic7\", \"Topic7\", \"Topic7\", \"Topic7\", \"Topic7\", \"Topic7\", \"Topic7\", \"Topic7\", \"Topic7\", \"Topic7\", \"Topic7\", \"Topic7\", \"Topic7\", \"Topic7\"], \"logprob\": [20.0, 19.0, 18.0, 17.0, 16.0, 15.0, 14.0, 13.0, 12.0, 11.0, 10.0, 9.0, 8.0, 7.0, 6.0, 5.0, 4.0, 3.0, 2.0, 1.0, -1.8844, -4.4866, -4.5313, -4.6556, -4.8221, -4.9191, -4.9135, -4.9605, -5.0447, -5.1262, -5.192, -5.0997, -5.1245, -5.1804, -5.1974, -5.2061, -5.2787, -5.2744, -5.2637, -5.3607, -5.2263, -5.2556, -5.5073, -5.3345, -5.4385, -5.5106, -5.3968, -4.8324, -5.3523, -5.4614, -5.4726, -5.4607, -5.5658, -5.5264, -5.6055, -5.5872, -5.5009, -5.5161, -5.5424, -5.5631, -5.567, -5.5031, -5.4324, -5.0345, -4.9589, -5.3891, -5.4756, -5.4475, -5.2635, -5.4048, -5.4184, -5.3415, -4.5866, -5.3405, -5.3535, -5.4223, -5.3692, -5.43, -5.5256, -5.4174, -5.4594, -5.4737, -5.474, -5.6076, -5.4673, -5.502, -5.671, -5.54, -5.5186, -5.6283, -5.473, -5.6032, -5.5235, -5.4788, -5.5793, -5.4594, -5.573, -5.5749, -5.4413, -5.491, -5.45, -5.5261, -5.4504, -5.4622, -5.4724, -5.4717, -5.4337, -5.3853, -5.4484, -5.4751, -5.4203, -5.4756, -5.4097, -5.4879, -5.5576, -5.6234, -5.492, -5.4618, -5.4611, -5.4754, -5.4536, -5.4531, -5.5577, -5.5662, -5.5641, -5.4975, -5.5244, -5.6067, -5.5156, -5.5143, -5.3529, -5.4795, -5.442, -5.5034, -5.5208, -5.4363, -5.4657, -5.4593, -5.443, -5.4435, -5.4447, -5.4809, -5.4388, -5.4738, -5.4067, -5.4098, -5.5748, -5.629, -5.4552, -5.4459, -5.5886, -5.4598, -5.495, -5.5143, -5.3971, -5.4762, -5.4107, -5.5453, -5.5422, -5.4193, -5.5378, -5.5968, -5.5416, -5.4797, -5.458, -5.4592, -5.5086, -5.5187, -5.4458, -5.4379, -5.5038, -5.482, -5.4281, -5.4657, -5.4475, -5.4759, -5.4403, -5.478, -5.4773, -5.3811, -5.4558, -5.5635, -5.5144, -5.4812, -5.4908, -5.4851, -5.4818, -5.3944, -5.5096, -5.4571, -5.6952, -5.5641, -5.5562, -5.5317, -5.542, -5.4966, -5.5952, -5.5601, -5.5103, -5.5321, -5.5611, -5.4941, -5.4286, -5.5106, -5.492, -5.4162, -5.4652, -5.4705, -5.362, -5.4082, -5.3956, -5.4516, -5.4857, -5.4535, -5.4761, -5.4827, -5.4878, -5.4339, -5.5152, -5.4814, -5.56, -5.5649, -5.5033, -5.4995, -5.5192, -5.5132, -5.5552, -5.5526, -5.5021, -5.5425, -5.4653, -5.5474, -5.5395, -5.6323, -5.4927, -5.5309, -5.5063, -5.5418, -5.5199, -5.4408, -5.4352, -5.4966, -5.5101, -5.4674, -5.457, -5.5011, -5.465, -5.4751, -5.4459, -5.4383, -5.4967, -5.4305, -5.4912, -5.4671, -5.4657, -5.4826, -5.4947, -5.4957], \"loglift\": [20.0, 19.0, 18.0, 17.0, 16.0, 15.0, 14.0, 13.0, 12.0, 11.0, 10.0, 9.0, 8.0, 7.0, 6.0, 5.0, 4.0, 3.0, 2.0, 1.0, 0.0066, 0.0047, 0.0045, 0.0041, 0.0037, 0.0035, 0.0034, 0.0033, 0.0031, 0.0027, 0.0026, 0.0025, 0.0025, 0.0024, 0.0023, 0.0023, 0.0022, 0.0022, 0.002, 0.0019, 0.0019, 0.0018, 0.797, 0.7707, 0.7597, 0.754, 0.7472, 0.7056, 0.6924, 0.6882, 0.6777, 0.654, 0.6502, 0.6376, 0.6361, 0.615, 0.6061, 0.6012, 0.6005, 0.5992, 0.5964, 0.5939, 0.5938, 0.5844, 0.5106, 0.5726, 0.5536, 0.4688, 0.0501, 0.3527, 0.3681, 0.1567, -2.6956, 0.0149, -0.0961, 0.0349, -0.7095, -0.2217, 0.6904, 0.6873, 0.6818, 0.6723, 0.667, 0.657, 0.649, 0.6409, 0.6332, 0.6324, 0.6318, 0.6133, 0.6104, 0.599, 0.594, 0.5911, 0.5842, 0.5715, 0.5711, 0.5705, 0.538, 0.5433, 0.4959, 0.5317, 0.4513, 0.4501, 0.4306, 0.3542, 0.1851, -0.0786, 0.0497, 0.0951, -3.5293, 0.789, 0.7406, 0.7281, 0.6839, 0.6808, 0.6509, 0.6489, 0.6476, 0.6377, 0.6313, 0.6226, 0.6063, 0.6062, 0.599, 0.5977, 0.5977, 0.5915, 0.5914, 0.5906, 0.589, 0.5781, 0.5636, 0.571, 0.5795, 0.4515, 0.465, 0.4249, 0.3324, 0.2616, 0.2356, 0.3939, -0.093, -0.0128, 0.7435, 0.7259, 0.6898, 0.6753, 0.6705, 0.6544, 0.6529, 0.6509, 0.6464, 0.6464, 0.6398, 0.6385, 0.6344, 0.6271, 0.6213, 0.6116, 0.6034, 0.6014, 0.5994, 0.5963, 0.5869, 0.57, 0.5838, 0.5899, 0.496, 0.4824, 0.5444, 0.4784, 0.3457, 0.4005, 0.2942, 0.4122, 0.017, 0.2744, -0.0514, 0.7913, 0.7602, 0.7011, 0.6878, 0.6599, 0.6546, 0.6506, 0.6369, 0.6366, 0.6231, 0.6128, 0.609, 0.5989, 0.5853, 0.577, 0.5741, 0.5686, 0.5683, 0.5682, 0.5655, 0.5631, 0.5647, 0.5416, 0.5086, 0.5328, 0.5072, 0.3341, 0.4276, 0.4176, 0.099, 0.0546, -0.0889, 0.0865, 0.3107, -0.2253, -0.0326, 0.0973, -0.5241, 0.8077, 0.789, 0.7208, 0.7046, 0.6511, 0.6421, 0.618, 0.6064, 0.6055, 0.5952, 0.5891, 0.5736, 0.5722, 0.5704, 0.5699, 0.5692, 0.5659, 0.5651, 0.5615, 0.5589, 0.5552, 0.5499, 0.5196, 0.5048, 0.5386, 0.5381, 0.4529, 0.4231, 0.4964, 0.4026, 0.4256, 0.3029, 0.0802, 0.4644, -0.1092, 0.4036, -0.0112, -0.3388, 0.0555, 0.3894, 0.2407]}, \"token.table\": {\"Topic\": [1, 1, 1, 1, 1, 1, 1, 1, 1, 1, 1, 1, 1, 1, 1, 1, 1, 1, 1, 1, 1, 1, 1, 1, 1, 1, 1, 1, 1, 1, 1, 1, 1, 1, 1, 1, 1, 1, 1, 1, 1, 1, 1, 1, 1, 1, 1, 1, 1, 1, 1, 1, 1, 1, 1, 1, 1, 1, 1, 1, 1, 1, 1, 1, 1, 1, 1, 1, 1, 1, 1, 1, 1, 1, 1, 1, 1, 1, 1, 1, 1, 1, 1, 1, 1, 1, 1, 1, 1, 1, 1, 1, 1, 1, 1, 1, 1, 1, 1, 1, 1, 1, 1, 1, 1, 1, 1, 1, 1, 1, 1, 1, 1, 1, 1, 1, 1, 1, 1, 1, 1, 1, 1, 1, 1, 1, 1, 1, 1, 1, 1, 1, 1, 1, 1, 1, 1, 1, 1, 1, 1, 1, 1, 1, 1, 1, 1, 1, 1, 1], \"Freq\": [1.0003262447221577, 0.9751897670466637, 0.9515792730184098, 1.043202039289168, 1.0291558022116447, 1.0513783259569365, 0.9817705299790114, 0.9213501327883219, 0.9518254765343663, 0.9260829742238894, 1.0304053009778265, 1.0102669024804019, 0.9893285146229039, 1.1304561714106478, 0.9263832137935245, 0.9908960555965329, 0.925716252066931, 0.8489224520992393, 0.9084425910182508, 0.9702475034408008, 0.9415874190771294, 1.0005597604045426, 0.8814757917730976, 1.0393432418899269, 0.9326311062871807, 0.9137697799472151, 1.149329450163925, 0.9055597210008866, 0.967532942698483, 1.0377443475293846, 1.0566288516461044, 1.109712286697109, 0.9876256130012134, 0.9817138300218033, 0.9224157419287236, 1.0161970119997439, 0.9995781770407193, 0.9084693747854468, 1.1076677672622701, 0.9396473434081605, 1.0358505686869837, 0.9344458849192105, 0.9853549996436793, 0.9595168311847281, 0.8799484151499354, 1.0798269806155776, 0.9799407634168911, 1.0252699121570092, 0.9918676184007917, 1.0441527587252346, 1.0587682770654063, 1.1231351044228257, 1.0678968373571343, 1.0199947687606805, 0.9967213066653666, 0.9566297455715704, 0.9098447318367286, 1.0252549004826503, 0.9149290778947744, 1.1313380165332645, 0.9882107150589746, 0.9228337665361763, 1.0011442848099767, 0.9501271826525814, 0.9502205201282294, 1.0512536340411165, 1.075496291068832, 1.0474930182110966, 1.048126627103618, 1.021277804088858, 1.0028771097551872, 0.9756566448674334, 1.0379905258892943, 0.9602921268590665, 1.0773757302017077, 1.0948286671721814, 0.9844526200450486, 1.0376548110680934, 1.0188567233357277, 1.0860853433248137, 1.043303118516106, 0.9877134165409371, 0.9380664617254398, 1.0001653181925798, 1.0516036549791559, 1.0383088837341927, 0.8640634250934152, 1.0251669099559981, 1.0660684624088035, 0.9588420149685198, 1.0201864248616006, 0.9933064095898432, 1.038979901690981, 1.067454360072245, 0.9459916153233576, 0.7972024890879269, 1.023918647640916, 0.9719506386106821, 0.9796967269668763, 1.081633003918837, 1.0309242116468367, 0.9996746797095424, 0.9834050785495856, 1.0649211928974216, 0.9163095942999945, 0.9907829706830212, 1.0042457791957995, 1.0027948131376474, 0.9035834155888075, 1.068104071968195, 0.9229767970952087, 0.97945362786233, 0.9955208135179883, 1.0073643004027004, 1.0700737128475835, 0.9795064764876066, 1.0164124634099097, 0.9751243227885722, 1.0208224344331016, 1.0289006656417228, 1.104534931730278, 0.912986797862398, 1.038807385186468, 1.0176045226062458, 0.9226674511655756, 0.9346437637123266, 0.9937262053471703, 0.9083095215639976, 0.9141845703786183, 0.9825165704716357, 1.0290439226219654, 1.0112928658645768, 1.0565966025744216, 1.015707655694687, 0.8870884424013791, 0.9513229094825315, 1.024510934516614, 0.9920503256163804, 0.9327568021951016, 0.9262530542801918, 0.9659687331387582, 0.9152605434885324, 1.1141388297885884, 0.9585134055047692, 0.9984086826928311, 1.094661477132948, 1.0973619870983835, 1.0158790737079377, 1.0360896553526964, 0.9181636768092417], \"Term\": [\"24\", \"achieve\", \"act\", \"action\", \"actor\", \"actually\", \"advice\", \"air\", \"amazing\", \"american\", \"apparently\", \"aside\", \"available\", \"away\", \"bad\", \"base\", \"basketball\", \"battle\", \"big\", \"bit\", \"book\", \"character\", \"collins\", \"combine\", \"come\", \"convincing\", \"correct\", \"cost\", \"countless\", \"credit\", \"day\", \"direction\", \"director\", \"dramatic\", \"emotion\", \"emotional\", \"end\", \"ending\", \"engineer\", \"entertainment\", \"fair\", \"fall\", \"family\", \"father\", \"fight\", \"filmmake\", \"finally\", \"follow\", \"form\", \"friend\", \"fun\", \"genuine\", \"girl\", \"good\", \"guy\", \"happen\", \"hinge\", \"idea\", \"include\", \"involve\", \"john\", \"journey\", \"just\", \"keanu\", \"kick\", \"know\", \"lace\", \"leave\", \"lie\", \"life\", \"light\", \"like\", \"line\", \"lot\", \"love\", \"lush\", \"man\", \"mans\", \"mass\", \"memorable\", \"minute\", \"mix\", \"money\", \"mother\", \"motivation\", \"mr\", \"murky\", \"new\", \"nice\", \"notable\", \"occur\", \"oscar\", \"people\", \"peter\", \"pity\", \"place\", \"play\", \"plot\", \"pretend\", \"private\", \"probably\", \"pron\", \"quick\", \"real\", \"really\", \"reason\", \"red\", \"right\", \"run\", \"ryan\", \"save\", \"say\", \"scene\", \"screenwriter\", \"script\", \"search\", \"setting\", \"sign\", \"simply\", \"son\", \"spy\", \"stumble\", \"stunning\", \"subtle\", \"sword\", \"taut\", \"team\", \"tell\", \"theme\", \"thing\", \"think\", \"time\", \"town\", \"trailer\", \"truly\", \"turn\", \"ultimately\", \"unlike\", \"want\", \"war\", \"way\", \"whine\", \"woman\", \"work\", \"world\", \"worth\", \"write\", \"wrong\", \"year\", \"young\"]}, \"R\": 20, \"lambda.step\": 0.01, \"plot.opts\": {\"xlab\": \"PC1\", \"ylab\": \"PC2\"}, \"topic.order\": [4, 7, 3, 5, 1, 2, 6]};\n",
       "\n",
       "function LDAvis_load_lib(url, callback){\n",
       "  var s = document.createElement('script');\n",
       "  s.src = url;\n",
       "  s.async = true;\n",
       "  s.onreadystatechange = s.onload = callback;\n",
       "  s.onerror = function(){console.warn(\"failed to load library \" + url);};\n",
       "  document.getElementsByTagName(\"head\")[0].appendChild(s);\n",
       "}\n",
       "\n",
       "if(typeof(LDAvis) !== \"undefined\"){\n",
       "   // already loaded: just create the visualization\n",
       "   !function(LDAvis){\n",
       "       new LDAvis(\"#\" + \"ldavis_el4268748495200805891692419\", ldavis_el4268748495200805891692419_data);\n",
       "   }(LDAvis);\n",
       "}else if(typeof define === \"function\" && define.amd){\n",
       "   // require.js is available: use it to load d3/LDAvis\n",
       "   require.config({paths: {d3: \"https://cdnjs.cloudflare.com/ajax/libs/d3/3.5.5/d3.min\"}});\n",
       "   require([\"d3\"], function(d3){\n",
       "      window.d3 = d3;\n",
       "      LDAvis_load_lib(\"https://cdn.rawgit.com/bmabey/pyLDAvis/files/ldavis.v1.0.0.js\", function(){\n",
       "        new LDAvis(\"#\" + \"ldavis_el4268748495200805891692419\", ldavis_el4268748495200805891692419_data);\n",
       "      });\n",
       "    });\n",
       "}else{\n",
       "    // require.js not available: dynamically load d3 & LDAvis\n",
       "    LDAvis_load_lib(\"https://cdnjs.cloudflare.com/ajax/libs/d3/3.5.5/d3.min.js\", function(){\n",
       "         LDAvis_load_lib(\"https://cdn.rawgit.com/bmabey/pyLDAvis/files/ldavis.v1.0.0.js\", function(){\n",
       "                 new LDAvis(\"#\" + \"ldavis_el4268748495200805891692419\", ldavis_el4268748495200805891692419_data);\n",
       "            })\n",
       "         });\n",
       "}\n",
       "</script>"
      ],
      "text/plain": [
       "PreparedData(topic_coordinates=              x         y  topics  cluster       Freq\n",
       "topic                                                \n",
       "3      0.053504  0.000006       1        1  99.317866\n",
       "6     -0.002246 -0.000274       2        1   0.113716\n",
       "2     -0.008546  0.000544       3        1   0.113686\n",
       "4     -0.010835 -0.001077       4        1   0.113684\n",
       "0     -0.011527 -0.000141       5        1   0.113683\n",
       "1     -0.010195  0.001059       6        1   0.113683\n",
       "5     -0.010156 -0.000118       7        1   0.113682, topic_info=          Term        Freq       Total Category  logprob  loglift\n",
       "191       pron  207.000000  207.000000  Default  20.0000  20.0000\n",
       "139       like   15.000000   15.000000  Default  19.0000  19.0000\n",
       "97        good   14.000000   14.000000  Default  18.0000  18.0000\n",
       "34   character   12.000000   12.000000  Default  17.0000  17.0000\n",
       "70         end   11.000000   11.000000  Default  16.0000  16.0000\n",
       "..         ...         ...         ...      ...      ...      ...\n",
       "184       play    0.006587    5.859841   Topic7  -5.4671  -0.0112\n",
       "243      thing    0.006597    8.142356   Topic7  -5.4657  -0.3388\n",
       "18         bad    0.006486    5.397334   Topic7  -5.4826   0.0555\n",
       "133      leave    0.006408    3.818641   Topic7  -5.4947   0.3894\n",
       "206        run    0.006402    4.426819   Topic7  -5.4957   0.2407\n",
       "\n",
       "[258 rows x 6 columns], token_table=      Topic      Freq     Term\n",
       "term                          \n",
       "0         1  1.000326       24\n",
       "2         1  0.975190  achieve\n",
       "3         1  0.951579      act\n",
       "4         1  1.043202   action\n",
       "5         1  1.029156    actor\n",
       "...     ...       ...      ...\n",
       "270       1  1.094661    worth\n",
       "271       1  1.097362    write\n",
       "272       1  1.015879    wrong\n",
       "273       1  1.036090     year\n",
       "274       1  0.918164    young\n",
       "\n",
       "[150 rows x 3 columns], R=20, lambda_step=0.01, plot_opts={'xlab': 'PC1', 'ylab': 'PC2'}, topic_order=[4, 7, 3, 5, 1, 2, 6])"
      ]
     },
     "execution_count": 12,
     "metadata": {},
     "output_type": "execute_result"
    }
   ],
   "source": [
    "## YOUR CODE HERE\n",
    "\n",
    "# set the number of topics\n",
    "n_topics = 7\n",
    "\n",
    "# Create the LDA model\n",
    "lda_model = LatentDirichletAllocation(n_components=n_topics, max_iter=5,\n",
    "                                      learning_method='online',\n",
    "                                      learning_offset=50.,\n",
    "                                      random_state=0)\n",
    "# fit and transform the LDA model to the vecotrized corpus\n",
    "\n",
    "lda_model.fit(tf)\n",
    "lda_transformed = lda_model.transform(tf)\n",
    "\n",
    "# use the pyLDAvis to visualise the topics\n",
    "pyLDAvis.sklearn.prepare(lda_model, tf, tf_vectorizer, R=20)"
   ]
  },
  {
   "cell_type": "markdown",
   "metadata": {},
   "source": [
    "The visualization here can help determine a reasonable number of number of clusters and it can serve as a communication tool.  If the goal was to find topics that are associated with customer profiles then you would likely work with folks in marketing to refine the clustering.  There are a couple of parameters than can be used to modify the clustering and visualization.  The discovery of meaningful topics is a form of feature engineering."
   ]
  },
  {
   "cell_type": "markdown",
   "metadata": {},
   "source": [
    "## QUESTION 6\n",
    "\n",
    "If you were to use the topics from this model to inform clustering or supervised learning you would first need to be able to extract and represent them as a matrix.  Along the same lines if you were to populate a report with tabular descriptions of the data then you will need to be able to extract topic representations.  Here is a starter function"
   ]
  },
  {
   "cell_type": "code",
   "execution_count": 13,
   "metadata": {},
   "outputs": [
    {
     "name": "stderr",
     "output_type": "stream",
     "text": [
      "/usr/local/lib/python3.8/site-packages/ipykernel/ipkernel.py:287: DeprecationWarning: `should_run_async` will not call `transform_cell` automatically in the future. Please pass the result to `transformed_cell` argument and any exception that happen during thetransform in `preprocessing_exc_tuple` in IPython 7.17 and above.\n",
      "  and should_run_async(code)\n"
     ]
    }
   ],
   "source": [
    "def get_top_words(model, feature_names, n_top_words):\n",
    "    \"\"\"\n",
    "    Get the top words defining the different topics of the LDA model\n",
    "    INPUT : the LDA model, the names of the features of the bag of word (these are the actual words in the vocabulary) \n",
    "    and the number of top words.\n",
    "    RETURN : A dictionary where the keys are the topic's ID and the values are the lists of the n_top_words top words.\n",
    "    \n",
    "    \"\"\"\n",
    "    top_words = {}\n",
    "    for topic_idx, topic in enumerate(model.components_):\n",
    "        _top_words = [feature_names[i] for i in topic.argsort()[:-n_top_words - 1:-1]]\n",
    "        top_words[str(topic_idx)] = _top_words\n",
    "    return top_words"
   ]
  },
  {
   "cell_type": "markdown",
   "metadata": {},
   "source": [
    "Use the function to print the top k words for each topic"
   ]
  },
  {
   "cell_type": "code",
   "execution_count": 15,
   "metadata": {},
   "outputs": [
    {
     "name": "stdout",
     "output_type": "stream",
     "text": [
      "0 whine new aside journey hinge money memorable follow direction achieve ending 24 sword tell family\n",
      "1 actor lie hinge think probably really spy bad turn lush pity town motivation time wrong\n",
      "2 think search pron red murky ryan woman nice wrong hinge love base john peter notable\n",
      "3 pron like good character end scene just action life work thing man people know day\n",
      "4 direction idea actually script truly entertainment worth girl act lot leave quick family write actor\n",
      "5 friend genuine engineer big away include minute apparently theme thing play memorable real filmmake bad\n",
      "6 pron war line red year finally american ryan emotion say character battle mass save keanu\n",
      "total words: 90\n"
     ]
    },
    {
     "name": "stderr",
     "output_type": "stream",
     "text": [
      "/usr/local/lib/python3.8/site-packages/ipykernel/ipkernel.py:287: DeprecationWarning: `should_run_async` will not call `transform_cell` automatically in the future. Please pass the result to `transformed_cell` argument and any exception that happen during thetransform in `preprocessing_exc_tuple` in IPython 7.17 and above.\n",
      "  and should_run_async(code)\n"
     ]
    }
   ],
   "source": [
    "## YOUR CODE HERE\n",
    "\n",
    "## set n_top_words\n",
    "top_words = 15\n",
    "\n",
    "## get the vectorizer's feature names\n",
    "tf_feature_names = np.array(tf_vectorizer.get_feature_names())\n",
    "\n",
    "## get the top words for each topic\n",
    "top_words = get_top_words(lda_model, tf_feature_names, top_words)\n",
    "all_top_words = np.array(list(set().union(*[v for v in top_words.values()])))\n",
    "\n",
    "## print the topics and the top words of each topic\n",
    "for key,vals in top_words.items():\n",
    "    print(key, \" \".join(vals))\n",
    "print(\"total words: %s\"%len(all_top_words))"
   ]
  },
  {
   "cell_type": "markdown",
   "metadata": {},
   "source": [
    "## QUESTION (EXTRA CREDIT) 7\n",
    "\n",
    "If you used `transform` on your original tokens you should have a `2000 x k` array where `k` is the number of topics you choose.  Create a PCA or tSNE visualization that projects this matrix into lower dimensional space then uses colors to indicate which documents belong to a topic (e.g. probability > 0.5)."
   ]
  },
  {
   "cell_type": "code",
   "execution_count": 16,
   "metadata": {},
   "outputs": [
    {
     "name": "stderr",
     "output_type": "stream",
     "text": [
      "/usr/local/lib/python3.8/site-packages/ipykernel/ipkernel.py:287: DeprecationWarning: `should_run_async` will not call `transform_cell` automatically in the future. Please pass the result to `transformed_cell` argument and any exception that happen during thetransform in `preprocessing_exc_tuple` in IPython 7.17 and above.\n",
      "  and should_run_async(code)\n"
     ]
    },
    {
     "data": {
      "image/png": "[encoded data removed]",
      "text/plain": [
       "<Figure size 1080x1080 with 1 Axes>"
      ]
     },
     "metadata": {},
     "output_type": "display_data"
    }
   ],
   "source": [
    "## YOUR CODE HERE\n",
    "def make_plot(lda_mat):\n",
    "    fig = plt.figure(figsize=(15, 15), facecolor='white')\n",
    "    ax = fig.add_subplot(111)\n",
    "    \n",
    "    tsne = TSNE(n_components=2, perplexity=10, init='pca')\n",
    "    projected = tsne.fit_transform(lda_mat)\n",
    "    \n",
    "    for class_num in np.arange(n_topics):\n",
    "        topic_inds = np.where(lda_mat[:, class_num] > 0.5)[0]\n",
    "        ax.scatter(projected[topic_inds, 0],\n",
    "                   projected[topic_inds, 1], \n",
    "                   edgecolor='none', marker='.', alpha=0.7, label=str(class_num))\n",
    "        \n",
    "        ax.set_xlabel('component 1')\n",
    "        ax.set_ylabel('component 2')\n",
    "        ax.legend()\n",
    "        \n",
    "make_plot(lda_transformed)"
   ]
  }
 ],
 "metadata": {
  "kernelspec": {
   "display_name": "Python 3",
   "language": "python",
   "name": "python3"
  },
  "language_info": {
   "codemirror_mode": {
    "name": "ipython",
    "version": 3
   },
   "file_extension": ".py",
   "mimetype": "text/x-python",
   "name": "python",
   "nbconvert_exporter": "python",
   "pygments_lexer": "ipython3",
   "version": "3.8.5"
  },
  "toc": {
   "base_numbering": 1,
   "nav_menu": {},
   "number_sections": true,
   "sideBar": true,
   "skip_h1_title": false,
   "title_cell": "Table of Contents",
   "title_sidebar": "Contents",
   "toc_cell": false,
   "toc_position": {},
   "toc_section_display": true,
   "toc_window_display": false
  },
  "varInspector": {
   "cols": {
    "lenName": 16,
    "lenType": 16,
    "lenVar": 40
   },
   "kernels_config": {
    "python": {
     "delete_cmd_postfix": "",
     "delete_cmd_prefix": "del ",
     "library": "var_list.py",
     "varRefreshCmd": "print(var_dic_list())"
    },
    "r": {
     "delete_cmd_postfix": ") ",
     "delete_cmd_prefix": "rm(",
     "library": "var_list.r",
     "varRefreshCmd": "cat(var_dic_list()) "
    }
   },
   "types_to_exclude": [
    "module",
    "function",
    "builtin_function_or_method",
    "instance",
    "_Feature"
   ],
   "window_display": false
  }
 },
 "nbformat": 4,
 "nbformat_minor": 2
}
